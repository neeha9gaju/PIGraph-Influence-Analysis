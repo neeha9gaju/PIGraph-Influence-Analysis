{
  "cells": [
    {
      "cell_type": "markdown",
      "metadata": {
        "id": "view-in-github",
        "colab_type": "text"
      },
      "source": [
        "<a href=\"https://colab.research.google.com/github/neeha9gaju/PIGraph-Influence-Analysis/blob/main/Piman_flask.ipynb\" target=\"_parent\"><img src=\"https://colab.research.google.com/assets/colab-badge.svg\" alt=\"Open In Colab\"/></a>"
      ]
    },
    {
      "cell_type": "code",
      "execution_count": null,
      "metadata": {
        "id": "c0eeff6f"
      },
      "outputs": [],
      "source": [
        "import pandas as pd\n",
        "import csv\n",
        "import matplotlib.pyplot as plt\n",
        "from ast import literal_eval"
      ],
      "id": "c0eeff6f"
    },
    {
      "cell_type": "code",
      "execution_count": null,
      "metadata": {
        "id": "532d6403"
      },
      "outputs": [],
      "source": [
        "def read_text(file_name):\n",
        "\tdata = pd.read_csv(file_name,delimiter=',', encoding=\"utf-8-sig\")\n",
        "\treturn data"
      ],
      "id": "532d6403"
    },
    {
      "cell_type": "code",
      "execution_count": null,
      "metadata": {
        "colab": {
          "base_uri": "https://localhost:8080/"
        },
        "id": "b405f682",
        "outputId": "96a4daa8-3b52-48ff-b5db-44e6515590a8"
      },
      "outputs": [
        {
          "output_type": "execute_result",
          "data": {
            "text/plain": [
              "(400, 12)"
            ]
          },
          "metadata": {},
          "execution_count": 30
        }
      ],
      "source": [
        "# read repo data\n",
        "repo_df = read_text(\"./merged_flask_repos.csv\")\n",
        "repo_df.shape"
      ],
      "id": "b405f682"
    },
    {
      "cell_type": "code",
      "execution_count": null,
      "metadata": {
        "colab": {
          "base_uri": "https://localhost:8080/"
        },
        "id": "820c05b0",
        "outputId": "6a3df5fe-c32a-4468-dc38-f3eed6c6eb6f"
      },
      "outputs": [
        {
          "output_type": "execute_result",
          "data": {
            "text/plain": [
              "Index(['repo', 'author', 'created_date', 'last_updated_date',\n",
              "       'contributors_list', 'watchers_list', 'forkers_list', 'stargazers_list',\n",
              "       'assignees_list', 'pull_commenter', 'parent', 'issuers_list'],\n",
              "      dtype='object')"
            ]
          },
          "metadata": {},
          "execution_count": 31
        }
      ],
      "source": [
        "repo_df.columns"
      ],
      "id": "820c05b0"
    },
    {
      "cell_type": "code",
      "execution_count": null,
      "metadata": {
        "id": "b94fdbaf-8ff6-48db-9b8f-91b36885b4ed"
      },
      "outputs": [],
      "source": [
        "repo_df[\"last_updated_date\"] = pd.to_datetime(repo_df[\"last_updated_date\"]).dt.strftime(\"%Y-%m-%d %H:%M:%S\")\n",
        "repo_df[\"created_date\"] = pd.to_datetime(repo_df[\"created_date\"]).dt.strftime(\"%Y-%m-%d %H:%M:%S\")"
      ],
      "id": "b94fdbaf-8ff6-48db-9b8f-91b36885b4ed"
    },
    {
      "cell_type": "code",
      "execution_count": null,
      "metadata": {
        "id": "ad8f2714"
      },
      "outputs": [],
      "source": [
        "repos_list = repo_df['repo']\n",
        "authors_list = repo_df['author']\n",
        "created_date_list = repo_df['created_date']\n",
        "last_updated_date_list = repo_df['last_updated_date']"
      ],
      "id": "ad8f2714"
    },
    {
      "cell_type": "code",
      "execution_count": null,
      "metadata": {
        "colab": {
          "base_uri": "https://localhost:8080/"
        },
        "id": "9be261d6",
        "outputId": "456862fd-5975-44bb-b3fa-222b5cfad5eb"
      },
      "outputs": [
        {
          "output_type": "execute_result",
          "data": {
            "text/plain": [
              "datetime.datetime(2022, 12, 27, 21, 42)"
            ]
          },
          "metadata": {},
          "execution_count": 34
        }
      ],
      "source": [
        "import datetime as dt\n",
        "def get_datetime(date):\n",
        "    year = int(date[:4])\n",
        "    month = int(date[5:7])\n",
        "    day = int(date[8:10])\n",
        "    hour = int(date[11:13])\n",
        "    mint = int(date[14:16])\n",
        "    secd = int(date[17:])\n",
        "\n",
        "    return dt.datetime(year, month, day, hour, mint, secd)\n",
        "\n",
        "get_datetime(last_updated_date_list[0])"
      ],
      "id": "9be261d6"
    },
    {
      "cell_type": "code",
      "execution_count": null,
      "metadata": {
        "colab": {
          "base_uri": "https://localhost:8080/"
        },
        "id": "da9b14b4",
        "outputId": "15581d98-450e-45b7-bd26-52a7386a8891"
      },
      "outputs": [
        {
          "output_type": "execute_result",
          "data": {
            "text/plain": [
              "{'Ketouem/flask-boto3': datetime.timedelta(days=2465, seconds=80640),\n",
              " 'level12/flask-webtest': datetime.timedelta(days=3505, seconds=62040),\n",
              " 'delsner/flask-angular-data-science': datetime.timedelta(days=2226, seconds=86100),\n",
              " 'toddbirchard/flasklogin-tutorial': datetime.timedelta(days=1799, seconds=58260),\n",
              " 'kritikaparmar-programmer/HealthCheck': datetime.timedelta(days=1214, seconds=64980),\n",
              " 'johnnncodes/building-a-blog-using-flask-and-angularjs': datetime.timedelta(days=3320, seconds=60960),\n",
              " 'cgauge/Flask-AWSCognito': datetime.timedelta(days=1564, seconds=34980),\n",
              " 'dushan14/books-store': datetime.timedelta(days=1969, seconds=28680),\n",
              " 'hypebeast/ansible-flask-stack': datetime.timedelta(days=2271, seconds=11700),\n",
              " 'johnwheeler/flask-live-starter': datetime.timedelta(days=2616, seconds=40140),\n",
              " 'mayurvkorde/Flask-Application-On-IIS': datetime.timedelta(days=919, seconds=12900),\n",
              " 'CharlyJazz/Flask-MVC-Template': datetime.timedelta(days=2410, seconds=25440),\n",
              " 'fengsp/flask-profile': datetime.timedelta(days=3072, seconds=7380),\n",
              " 'danionescu0/docker-flask-mongodb-example': datetime.timedelta(days=2595, seconds=81180),\n",
              " 'sunscrapers/flask-boilerplate': datetime.timedelta(days=2507, seconds=20400),\n",
              " 'twaldear/flask-secure-headers': datetime.timedelta(days=3173, seconds=59040),\n",
              " 'gtancev/Flask-Angular-Web-Application': datetime.timedelta(days=1270, seconds=8880),\n",
              " 'MattToegel/IS601': datetime.timedelta(days=1045, seconds=40920),\n",
              " 'microsoft/project-python-flask-container': datetime.timedelta(days=2181, seconds=55500),\n",
              " 'webmagicinformatica/Dockerizing-Python-Flask-Redis-Application': datetime.timedelta(days=1399, seconds=67740),\n",
              " 'ynakayama/flask-hello': datetime.timedelta(days=2940, seconds=50040),\n",
              " 'hasankhan/pyMVC': datetime.timedelta(days=3683, seconds=16560),\n",
              " 'adyouri/large-flask-app-template': datetime.timedelta(days=594, seconds=31680),\n",
              " 'ritvikkhanna09/Income-Prediction-Webapp': datetime.timedelta(days=1500, seconds=5820),\n",
              " 'Paradoxis/Flask-Unsign': datetime.timedelta(days=1878, seconds=39060),\n",
              " 'gbourniq/bank-statement-analysis': datetime.timedelta(days=1859, seconds=53580),\n",
              " 'alkhalifas/Application-Programming-Interface-Development-using-Flask-Python': datetime.timedelta(days=1060, seconds=80940),\n",
              " 'Azure-Samples/flask-postgresql-app': datetime.timedelta(days=2108, seconds=17280),\n",
              " 'aixiamomo/flask-todo-app': datetime.timedelta(days=2645, seconds=85680),\n",
              " 'Azure-Samples/docker-flask-postgres': datetime.timedelta(days=2359, seconds=79500),\n",
              " 'amitvkulkarni/Data-Apps': datetime.timedelta(days=1228, seconds=61380),\n",
              " 'kb22/ML-React-App-Template': datetime.timedelta(days=1794, seconds=12600),\n",
              " 'gofynd/flask-full': datetime.timedelta(days=2118, seconds=41160),\n",
              " 'IBM-Cloud/get-started-python': datetime.timedelta(days=3163, seconds=24180),\n",
              " 'sh4nks/flask-plugins': datetime.timedelta(days=3497, seconds=32340),\n",
              " 'moinudeen/digit-recognizer-flask-cnn': datetime.timedelta(days=2621, seconds=60600),\n",
              " 'prashanthmadi/azure-flask-httpplatformhandler': datetime.timedelta(days=1584, seconds=73500),\n",
              " 'matdoering/minimal-flask-example': datetime.timedelta(days=1104, seconds=47460),\n",
              " 'RajKKapadia/YouTube-Render-Python': datetime.timedelta(days=480, seconds=39540),\n",
              " 'jpf/TwilioSheet': datetime.timedelta(days=4169, seconds=14160),\n",
              " 'zenyui/celery-flask-factory': datetime.timedelta(days=1843, seconds=28920),\n",
              " 'kb22/Understanding-Flask-and-Flask-RESTPlus': datetime.timedelta(days=1644, seconds=3300),\n",
              " 'aws-samples/three-tier-web-application-flask': datetime.timedelta(days=153, seconds=17040),\n",
              " 'SigNoz/sample-flask-app': datetime.timedelta(days=936, seconds=85980),\n",
              " 'dternyak/Flask-Postgres-Docker': datetime.timedelta(days=802, seconds=55860),\n",
              " 'su600/DataS': datetime.timedelta(days=1401, seconds=47880),\n",
              " 'TheCloudWorld/application-python-flask-nameprint': datetime.timedelta(days=507, seconds=84420),\n",
              " 'satriani04/flask-pos': datetime.timedelta(days=2234, seconds=67200),\n",
              " 'SI-364-F17/Sample-Login-App': datetime.timedelta(days=708, seconds=76080),\n",
              " 'codesagar/Azure-Blobs': datetime.timedelta(days=2689, seconds=50880),\n",
              " 'InnoFang/what-digit-you-write': datetime.timedelta(days=1919, seconds=73020),\n",
              " 'tiangolo/meinheld-gunicorn-docker': datetime.timedelta(days=1891, seconds=420),\n",
              " 'kanuarj/FirebasePython': datetime.timedelta(days=1905, seconds=76920),\n",
              " 'venugopalkadamba/AgriAI_WebApp': datetime.timedelta(days=1033, seconds=13620),\n",
              " 'aws-troutman/magic8ball-flask': datetime.timedelta(days=1103, seconds=32640),\n",
              " 'yutinggong/FlaskNLPWebApplication': datetime.timedelta(days=1599, seconds=23520),\n",
              " 'johnnncodes/note-taking-app': datetime.timedelta(days=2460, seconds=50880),\n",
              " 'lacioffi/checkpoint-cicd': datetime.timedelta(days=1, seconds=44160),\n",
              " 'IBM/worklog': datetime.timedelta(days=1942, seconds=64560),\n",
              " 'msoedov/flask-graphql-example': datetime.timedelta(days=2446, seconds=540),\n",
              " 'gayu-thri/Online-Sports-Turf-Playground-Booking-System': datetime.timedelta(days=1468, seconds=22080),\n",
              " 'vmadhv/project-python-flask-webapp': datetime.timedelta(days=362, seconds=23220),\n",
              " 'macagua/example.flask.crud-app': datetime.timedelta(days=1438, seconds=55920),\n",
              " 'muxuezi/python-flask-react-crud-example': datetime.timedelta(days=1792, seconds=60780),\n",
              " 'Faruqt/React-Flask': datetime.timedelta(days=823, seconds=71580),\n",
              " 'miguelgrinberg/Flask-Runner': datetime.timedelta(days=3879, seconds=39480),\n",
              " 'mbr/flask-appconfig': datetime.timedelta(days=3895, seconds=73980),\n",
              " 'alexandermendes/Flask-Z3950': datetime.timedelta(days=2844, seconds=24540),\n",
              " 'fullstackpython/book-and-video-code-examples': datetime.timedelta(days=2217, seconds=78240),\n",
              " 'Swap76/Python-Flask-Application': datetime.timedelta(days=571, seconds=37920),\n",
              " 'mertcangokgoz/TimeTable': datetime.timedelta(days=2562, seconds=10740),\n",
              " 'nathanwright1242/flask_livereload_example': datetime.timedelta(days=1683, seconds=7320),\n",
              " 'shoyo/react-flask-docker-boilerplate': datetime.timedelta(days=1512, seconds=56040),\n",
              " 'jinykim68/flask-celery-rabbitmq-example': datetime.timedelta(days=1602, seconds=50760),\n",
              " 'cvitter/mattermost-bitbucket-bridge': datetime.timedelta(days=1884, seconds=49860),\n",
              " 'AmI-2018/python-lab5': datetime.timedelta(seconds=60),\n",
              " 'angstwad/elemental': datetime.timedelta(days=3233, seconds=12780),\n",
              " 'mardix/propel-legacy': datetime.timedelta(days=3001, seconds=14520),\n",
              " 'apereo/cas-sample-python-webapp': datetime.timedelta(days=2292, seconds=15720),\n",
              " 'VerSprite/flask-json-pickle': datetime.timedelta(days=2590, seconds=31440),\n",
              " 'tstokrk/voting-flask-application': datetime.timedelta(days=1901, seconds=360),\n",
              " 'kvesteri/flask-storage': datetime.timedelta(days=3495, seconds=36060),\n",
              " 'mattfinnell/flask-webpack-cookiecutter': datetime.timedelta(days=2265, seconds=60780),\n",
              " 'tecladocode/first-flask-app': datetime.timedelta(days=1884, seconds=79500),\n",
              " 'level09/enferno': datetime.timedelta(days=3535, seconds=84720),\n",
              " 'jungleBadger/udacity_coffee_shop': datetime.timedelta(days=1127, seconds=77220),\n",
              " 'beenje/flask_traefik_letsencrypt': datetime.timedelta(days=2068, seconds=34260),\n",
              " 'mattupstate/ansible-tutorial': datetime.timedelta(days=4090, seconds=25140),\n",
              " 'diegoinacio/object-detection-flask-opencv': datetime.timedelta(days=1471, seconds=69060),\n",
              " 'Depado/flask-skeleton': datetime.timedelta(days=3552, seconds=68040),\n",
              " 'department-of-veterans-affairs/wtf-bot': datetime.timedelta(days=1649, seconds=79740),\n",
              " 'etmoore/socketio-flask-react-chat': datetime.timedelta(days=2406, seconds=60840),\n",
              " 'redis-developer/redis-om-python-flask-skeleton-app': datetime.timedelta(days=748, seconds=83040),\n",
              " 'leemengtw/cat-recognition-app': datetime.timedelta(days=1682, seconds=34620),\n",
              " 'yoshiya0503/Hermetica': datetime.timedelta(days=2571, seconds=64200),\n",
              " 'nidhinp/Paintapp-Flask-PostgreSQL': datetime.timedelta(days=3671, seconds=80700),\n",
              " 'albertogg/flask-bootstrap-skel': datetime.timedelta(days=3825, seconds=59280),\n",
              " 'olayinkaos/flask-realtime-todo': datetime.timedelta(days=2313, seconds=72540),\n",
              " 'uwi-info3180/flasky': datetime.timedelta(days=1840, seconds=7920),\n",
              " 'syedsaadahmed/Python_flask_CRUD': datetime.timedelta(days=1982, seconds=42900),\n",
              " 'DhirajKelhe/flaskapp': datetime.timedelta(days=834, seconds=18480),\n",
              " 'MirelaI/flask_heroku_example': datetime.timedelta(days=2025, seconds=19440),\n",
              " 'dorotawm/quizr-flask': datetime.timedelta(days=364, seconds=31020),\n",
              " 'prof-rossetti/rock-paper-scissors-flask': datetime.timedelta(days=1755, seconds=64020),\n",
              " 'mjhea0/flask-intro': datetime.timedelta(days=4038, seconds=46440),\n",
              " 'isheunesutembo/Predicting-House-Prices-Using-Random-Forest-Flask-Web-Application': datetime.timedelta(days=1413, seconds=79560),\n",
              " 'm-kortas/Sound-based-bird-species-detection': datetime.timedelta(days=1576, seconds=77040),\n",
              " 'marcuxyz/flask-vuejs': datetime.timedelta(days=1351, seconds=34920),\n",
              " 'Shir0kamii/Flask-CSV': datetime.timedelta(days=2411, seconds=9120),\n",
              " 'itzvnl/Flask-Webapplication-with-mysql': datetime.timedelta(days=1292, seconds=8160),\n",
              " 'tsileo/flask-yeoman': datetime.timedelta(days=3665, seconds=77700),\n",
              " 'nikos/python3-alpine-flask-docker': datetime.timedelta(days=2209, seconds=63840),\n",
              " 'Snickdx/flaskSample': datetime.timedelta(days=1046, seconds=15660),\n",
              " 'meta-toolkit/metapy-demos': datetime.timedelta(days=2847, seconds=67440),\n",
              " 'antarctica/flask-reverse-proxy-fix': datetime.timedelta(days=996, seconds=600),\n",
              " 'raoumairwaheed/yolov8-Object-detection-web-application-flask': datetime.timedelta(days=234, seconds=9900),\n",
              " 'fonylew/simple-flask-on-cloud-run': datetime.timedelta(days=1373, seconds=23100),\n",
              " 'marchibbins/teela': datetime.timedelta(days=3346, seconds=67440),\n",
              " 'alphasecio/flask': datetime.timedelta(days=411, seconds=25800),\n",
              " 'navapbc/template-application-flask': datetime.timedelta(days=455, seconds=8220),\n",
              " 'fogleman/HelloFlask': datetime.timedelta(days=4269, seconds=73500),\n",
              " 'kadnan/PythonFlaskDecentralizedEcommerce': datetime.timedelta(days=923, seconds=36600),\n",
              " 'radoondas/flask-app-search': datetime.timedelta(days=1515, seconds=8880),\n",
              " 'Santhoshkumard11/Flask-Calculator-Beginner-Docker': datetime.timedelta(days=521, seconds=14760),\n",
              " 'karthikeyan5/Flaskentory': datetime.timedelta(days=1924, seconds=79260),\n",
              " 'idris-rampurawala/flask-boilerplate': datetime.timedelta(days=1316, seconds=41760),\n",
              " 'info3180/demo_user_app': datetime.timedelta(days=1791, seconds=41700),\n",
              " 'vitalk/flask-styleguide': datetime.timedelta(days=2975, seconds=70320),\n",
              " 'testdrivenio/flask-celery-project': datetime.timedelta(days=1061, seconds=13380),\n",
              " 'bobbui/prometheus-flask': datetime.timedelta(days=1739, seconds=76200),\n",
              " 'syqu22/flask-pastebin': datetime.timedelta(days=925, seconds=19020),\n",
              " 'lmeunier/flaskup': datetime.timedelta(days=4302, seconds=65760),\n",
              " 'ContinuumIO/flask-ssl-authentication': datetime.timedelta(days=2835, seconds=27840),\n",
              " 'swisscom/cf-sample-app-python': datetime.timedelta(days=2004, seconds=42180),\n",
              " 'putuwaw/flask-app-vercel': datetime.timedelta(days=444, seconds=52200),\n",
              " 'sebsto/signup-flask-nginx-docker': datetime.timedelta(days=3059, seconds=25680),\n",
              " 'tiangolo/full-stack-flask-couchbase': datetime.timedelta(days=1753, seconds=82980),\n",
              " 'kinsta/hello-world-flask': datetime.timedelta(days=483, seconds=22680),\n",
              " 'DuncanJF/BuyBestBrands': datetime.timedelta(days=30, seconds=53220),\n",
              " 'mudasiryounas/kubernetes-docker-flask-postgres-sqlalchemy-gunicorn-tutorial': datetime.timedelta(days=1574, seconds=83820),\n",
              " 'jarodl/flask-github': datetime.timedelta(days=3709, seconds=44580),\n",
              " 'forrestyishichen/Real-Estate-Exchange-Web-Application': datetime.timedelta(days=2104, seconds=1620),\n",
              " 'mrgambal/vulyk': datetime.timedelta(days=3255, seconds=1200),\n",
              " 'nyu-software-engineering/flask-pymongo-web-app-example': datetime.timedelta(days=440, seconds=8460),\n",
              " 'vitalk/ansible-flaskapp': datetime.timedelta(days=2007, seconds=17160),\n",
              " 'senseta-os/senseta-base-project': datetime.timedelta(days=2113, seconds=9120),\n",
              " 'AmyangXYZ/BirdSong_Recognition': datetime.timedelta(days=2427, seconds=77340),\n",
              " 'macloo/flask-forms': datetime.timedelta(days=2066, seconds=84960),\n",
              " 'itsron143/pushups-logger': datetime.timedelta(days=1325, seconds=45180),\n",
              " 'itsimplified/slick-crud-app': datetime.timedelta(days=2083, seconds=81480),\n",
              " 'fabric8-analytics/fabric8-analytics-auth': datetime.timedelta(days=999, seconds=38940),\n",
              " 'jvuori/flask-uwsgi-nginx-haproxy-docker': datetime.timedelta(days=2917, seconds=24180),\n",
              " 'sumanentc/sample-flask-application-with-openapi': datetime.timedelta(days=992, seconds=48240),\n",
              " 'wgopar/ml-flask-web-app': datetime.timedelta(days=1344, seconds=58740),\n",
              " 'fnava621/chatapp': datetime.timedelta(days=2400, seconds=48840),\n",
              " 'griimnak/Trinity-py': datetime.timedelta(days=2124, seconds=77040),\n",
              " 'gokulapap/subdomainer-flask': datetime.timedelta(days=853, seconds=74460),\n",
              " 'Digital-Signage-Slideshow/DS_Slideshow': datetime.timedelta(days=1420, seconds=84300),\n",
              " 'dqminh/flask-lettuce': datetime.timedelta(days=3733, seconds=40080),\n",
              " 'nirzaf/FlaskWebApplication': datetime.timedelta(days=1492, seconds=47880),\n",
              " 'NoblesseCoder/EcommDB': datetime.timedelta(days=2196, seconds=11280),\n",
              " 'COUR4G3/flask-gssapi': datetime.timedelta(days=2857, seconds=80400),\n",
              " 'SidneyJob/FVWA': datetime.timedelta(days=259, seconds=28980),\n",
              " 'romeokienzler/flask-file-upload': datetime.timedelta(days=1378, seconds=42840),\n",
              " 'dainnilsson/flask-u2f-tutorial': datetime.timedelta(days=2928, seconds=50280),\n",
              " 'nikhilkumar4443/simple-web-application': datetime.timedelta(days=90, seconds=72000),\n",
              " 'klzns/flask-webkit': datetime.timedelta(days=3197, seconds=66060),\n",
              " 'adriencaccia/vscode-flask-debug': datetime.timedelta(days=1017, seconds=34920),\n",
              " 'gbroccolo/flask-redis-docker': datetime.timedelta(days=1356, seconds=81360),\n",
              " 'shazforiot/python-flask-redis-docker-Project': datetime.timedelta(days=303, seconds=70740),\n",
              " 'yoni2k/flask_heroku': datetime.timedelta(days=1097, seconds=50040),\n",
              " 'SeaRhyme7th/SketchAPP': datetime.timedelta(days=1363, seconds=33540),\n",
              " 'allaredko/flask-tutorial-demo': datetime.timedelta(days=1904, seconds=62700),\n",
              " 'gaotongfei/flask-blog': datetime.timedelta(days=2801, seconds=76380),\n",
              " 'J-Mourad/Flask-Sentiment-Analysis-App': datetime.timedelta(days=1170, seconds=21960),\n",
              " 'hugom1997/Flask-Cnn-Recognition-App': datetime.timedelta(days=1130, seconds=22800),\n",
              " 'eficode-academy/quotes-flask': datetime.timedelta(days=304, seconds=30780),\n",
              " 'TwilioDevEd/webhooks-example-flask': datetime.timedelta(days=2642, seconds=40440),\n",
              " 'faizanbashir/flask-gunicorn-nginx-docker': datetime.timedelta(days=1739, seconds=43080),\n",
              " 'rememberlenny/Flask-Person-Detector': datetime.timedelta(days=1820, seconds=63600),\n",
              " 'Simple2B/flask.app': datetime.timedelta(days=1194, seconds=77280),\n",
              " 'safakozdek/Crud-App-Using-Flask-and-MySQL': datetime.timedelta(days=1335, seconds=64140),\n",
              " 'LukaszMalucha/Image-Classification': datetime.timedelta(days=1641, seconds=34740),\n",
              " 'CiscoDevNet/flask-netconf': datetime.timedelta(days=2282, seconds=72360),\n",
              " 'adamcrosby/elastic-flask-baseline': datetime.timedelta(days=2675, seconds=49620),\n",
              " 'ahnaf-zamil/k8s-flask-tutorial': datetime.timedelta(days=211, seconds=12720),\n",
              " 'syaffers/souqnet-app': datetime.timedelta(days=1525, seconds=25020),\n",
              " 'py-package/flask-boilerplate': datetime.timedelta(days=891, seconds=12360),\n",
              " 'marktennyson/flask-mailing': datetime.timedelta(days=872, seconds=8520),\n",
              " 'volkerp/flaskrqdemo': datetime.timedelta(days=1714, seconds=10620),\n",
              " 'bogdan-alexandrescu/Flask-Webhook': datetime.timedelta(days=2938, seconds=80280),\n",
              " 'holyfiddlex/Flask-React-Template': datetime.timedelta(days=1495, seconds=75420),\n",
              " 'gabrielbessler/FlaskApp': datetime.timedelta(days=1714, seconds=69780),\n",
              " 'adamshamsudeen/opencv-flask': datetime.timedelta(days=1674, seconds=56700),\n",
              " 'studio-salamander/custom-blog': datetime.timedelta(days=2589, seconds=34020),\n",
              " 'vukan-markovic/Book_evaluator': datetime.timedelta(days=2062, seconds=31980),\n",
              " 'DanielArturoAlejoAlvarez/Rest-Api-Python-3-7-7-Flask-SQLAlchemy-JWT-Authentication': datetime.timedelta(days=1317, seconds=53640),\n",
              " 'verdan/flask-keycloak': datetime.timedelta(days=1340, seconds=59040),\n",
              " 'stephen-mcneal/Medium-Flask': datetime.timedelta(days=586, seconds=40380),\n",
              " 'pythonthusiast/bio': datetime.timedelta(days=3211, seconds=30180),\n",
              " '1Hanif1/Password-Manager': datetime.timedelta(days=687, seconds=34920),\n",
              " 'andrewrosss/flask-firebase-admin': datetime.timedelta(days=987, seconds=43320),\n",
              " 'SI364-Winter2018/Embedding-Youtube-Spotify': datetime.timedelta(days=1001, seconds=75180),\n",
              " 'dueka/translateWithWhisper': datetime.timedelta(days=486, seconds=64020),\n",
              " 'dtiesling/flask-muck': datetime.timedelta(days=133, seconds=8220),\n",
              " 'melvin0008/FlaskBoilerplate': datetime.timedelta(days=2706, seconds=67080),\n",
              " 'ryanmcdermott/docker-flask': datetime.timedelta(days=2612, seconds=26040),\n",
              " 'ThunderousFigs/Genomes': datetime.timedelta(days=2471, seconds=23100),\n",
              " 'tiangolo/full-stack-flask-couchdb': datetime.timedelta(days=1728, seconds=8520),\n",
              " 'prof-rossetti/web-app-starter-flask': datetime.timedelta(days=449, seconds=43920),\n",
              " 'EijiTomonari/ticket-scanner-v2': datetime.timedelta(days=578, seconds=68640),\n",
              " 'jod35/Flask-React-Recipes': datetime.timedelta(days=966, seconds=33960),\n",
              " 'TrystanLea/emonview': datetime.timedelta(days=1301, seconds=33000),\n",
              " 'miguelgrinberg/flask-phone-input': datetime.timedelta(days=1421, seconds=7560),\n",
              " 'blueswen/flask-monitoring': datetime.timedelta(days=670, seconds=54060),\n",
              " 'mitkir/keras-flask-image-classifier': datetime.timedelta(days=1482, seconds=40740),\n",
              " 'cogitovirus/langchain-sql-agent-bootstrap': datetime.timedelta(days=331, seconds=22740),\n",
              " 'hartleybrody/web_starter': datetime.timedelta(days=3597, seconds=15960),\n",
              " 'contactvaibhavi/Online-Hotel-Management-System': datetime.timedelta(days=2158, seconds=44100),\n",
              " 'dineshpiyasamara/LaptopPricePredictor': datetime.timedelta(days=634, seconds=84180),\n",
              " 'AdityaPai2398/Flask-Pdf-Splitter-': datetime.timedelta(days=1238, seconds=27000),\n",
              " 'asthasharma98/Heart-Disease-Prediction-Deployment': datetime.timedelta(days=1047, seconds=49980),\n",
              " 'Eyongkevin/hello_template': datetime.timedelta(days=1633, seconds=8400),\n",
              " 'nezaj/flask-skeleton': datetime.timedelta(days=3472, seconds=8580),\n",
              " 'zobayer1/flask-restful-boilerplate': datetime.timedelta(days=853, seconds=13320),\n",
              " 'munhitsu/flask-fbapi': datetime.timedelta(days=3885, seconds=80280),\n",
              " 'playpauseandstop/Flask-LazyViews': datetime.timedelta(days=3900, seconds=58020),\n",
              " 'maarten-dp/flask-restless-client': datetime.timedelta(days=1409, seconds=83100),\n",
              " 'kubevirt/vAdvisor': datetime.timedelta(days=2466, seconds=24120),\n",
              " 'realScipio/scippycrm': datetime.timedelta(days=1991, seconds=180),\n",
              " 'FusionAuth/fusionauth-example-python-flask': datetime.timedelta(days=1184, seconds=24480),\n",
              " 'teamgeek-io/flask-blog-starter': datetime.timedelta(days=1085, seconds=81480),\n",
              " 'jomariya23156/face-recognition-with-liveness-web-login': datetime.timedelta(days=1039, seconds=47400),\n",
              " 'AndrewRPorter/flask-react-nginx': datetime.timedelta(days=1416, seconds=49140),\n",
              " 'buildflaskapp/buildflaskapp': datetime.timedelta(days=1126, seconds=9420),\n",
              " 'corydolphin/flask-headers': datetime.timedelta(days=2347, seconds=59100),\n",
              " 'Redpill-Linpro/hellopythonapp': datetime.timedelta(days=622, seconds=18120),\n",
              " 'Neo-Hao/mean-review-collector': datetime.timedelta(days=1409, seconds=10260),\n",
              " 'hamdell/flask_waf': datetime.timedelta(days=2293, seconds=56280),\n",
              " 'wilfilho/flask-facebook-example': datetime.timedelta(days=1609, seconds=72840),\n",
              " 'angudadevops/Python-Developement': datetime.timedelta(days=633, seconds=57060),\n",
              " 'duplxey/flask-movies': datetime.timedelta(days=439, seconds=2460),\n",
              " 'sandialabs/flasquiz': datetime.timedelta(days=1425, seconds=62460),\n",
              " 'incubated-geek-cc/your-custom-app-name': datetime.timedelta(days=1142, seconds=37920),\n",
              " 'dreamingechoes/flask-internet-of-things-app': datetime.timedelta(days=2256, seconds=70140),\n",
              " 'flomflam/StartingTemplate': datetime.timedelta(days=2, seconds=72540),\n",
              " 'aasu14/Machine-learning-Application-with-Flask': datetime.timedelta(days=1581, seconds=8580),\n",
              " 'Lincoln-LM/PLA-Live-Map': datetime.timedelta(days=590, seconds=63120),\n",
              " 'Yekai-Yu/Flask-web-application': datetime.timedelta(days=1728, seconds=780),\n",
              " 'C-Anirudh/aws-flask-application': datetime.timedelta(seconds=6900),\n",
              " 'SwagLyrics/SwagLyrics-For-Spotify': datetime.timedelta(days=2220, seconds=71100),\n",
              " 'gokulapap/certificate-generator': datetime.timedelta(days=764, seconds=240),\n",
              " 'jdaroesti/flask-http2-push': datetime.timedelta(days=2135, seconds=73740),\n",
              " 'miguelgrinberg/webcast-assistant': datetime.timedelta(days=1663, seconds=48480),\n",
              " 'Nooraldin2001/Final-Project-Emotion-Detector': datetime.timedelta(days=135, seconds=42000),\n",
              " 'Zeeshanahmad4/Stock-Prices-Prediction-ML-Flask-Dashboard': datetime.timedelta(days=1540, seconds=19560),\n",
              " 'Prev/askhy': datetime.timedelta(days=1207, seconds=74400),\n",
              " 'alfredodeza/azure-flask-container-app': datetime.timedelta(days=540, seconds=44400),\n",
              " 'wgkoro/flask_mongodb': datetime.timedelta(days=2132, seconds=81000),\n",
              " 'ryanwang520/create-flask-skeleton': datetime.timedelta(days=2163, seconds=69060),\n",
              " 'tylernchls/flask_web_app': datetime.timedelta(days=2166, seconds=1440),\n",
              " 'Januzellij/flask-ember-todo': datetime.timedelta(days=2658, seconds=34020),\n",
              " 'Code-Institute-Solutions/FlaskChatApplication-UpgradingOurChatFunctionality': datetime.timedelta(days=502, seconds=16920),\n",
              " 'uysalemre/Python-Flask-Sqlite-RestApi-WebApp': datetime.timedelta(days=1928, seconds=10320),\n",
              " 'calltracking/ctm-python-example': datetime.timedelta(days=2285, seconds=81180),\n",
              " 'brijeshb42/flask-web-starter-kit': datetime.timedelta(days=1728, seconds=15900),\n",
              " 'drivet/pylint-server': datetime.timedelta(days=1607, seconds=73380),\n",
              " 'adatlabor/soa-demo': datetime.timedelta(days=3888, seconds=26460),\n",
              " 'FeLoe/3bij3': datetime.timedelta(days=2187, seconds=10920),\n",
              " 'RamonWill/Data-App': datetime.timedelta(days=1476, seconds=77580),\n",
              " 'harshays/prioritize': datetime.timedelta(days=2928, seconds=75240),\n",
              " 'lalithpolepeddi/sightings': datetime.timedelta(days=2667, seconds=33000),\n",
              " 'fatematzuhora/Flask-SQLAlchemy-RESTful-CRUD': datetime.timedelta(days=1431, seconds=10080),\n",
              " 'ZoranPandovski/flaskr-intro': datetime.timedelta(days=1142, seconds=56580),\n",
              " 'ahmdrz/facedetector': datetime.timedelta(days=2025, seconds=84360),\n",
              " 'allansifuna/Flask-Mpesa': datetime.timedelta(days=1561, seconds=81240),\n",
              " 'dorajistyle/flask-canjs-i18n-boilerplate': datetime.timedelta(days=2629, seconds=5100),\n",
              " 'Harivind/Kannada-OCR': datetime.timedelta(days=1410, seconds=13500),\n",
              " 'gAmadorH/flask-hello-world': datetime.timedelta(days=1006, seconds=23040),\n",
              " 'agallant/twitoff': datetime.timedelta(days=109, seconds=23760),\n",
              " 'radekstepan/FlaskBudget': datetime.timedelta(days=4183, seconds=82380),\n",
              " 'shepilov-vladislav/Flask-Restless-Restangular-with-JWT-auth': datetime.timedelta(days=2640, seconds=39840),\n",
              " 'MoTechStore/Python-Flask-MySQL-CRUD-App': datetime.timedelta(days=822, seconds=1620),\n",
              " 'jhorneman/flask-skeleton': datetime.timedelta(days=4311, seconds=75180),\n",
              " 'riZZZhik/belinsky': datetime.timedelta(days=341, seconds=37980),\n",
              " 'jannehansen/PythonFlaskApp': datetime.timedelta(days=1914, seconds=28020),\n",
              " 'vipinc007/ParquetViewer': datetime.timedelta(days=2017, seconds=10500),\n",
              " 'weapp/flask-coffee2js': datetime.timedelta(days=2003, seconds=31800),\n",
              " 'Tyzer34/Flask-Ask_ExampleApplications': datetime.timedelta(days=1715, seconds=78900),\n",
              " 'workos/python-flask-example-applications': datetime.timedelta(days=826, seconds=85380),\n",
              " 'robinske/phone-verification-flask': datetime.timedelta(days=1445, seconds=29820),\n",
              " 'MugeraH/flask_code': datetime.timedelta(days=329, seconds=8520),\n",
              " 'nikdanilov/Flask-React-ToDo-app': datetime.timedelta(days=2045, seconds=23400),\n",
              " 'lucassuar/Flask-Python-Recipe-Manager': datetime.timedelta(days=1675, seconds=6900),\n",
              " 'StudioQi/jeto': datetime.timedelta(days=1368, seconds=65040),\n",
              " 'marcuxyz/mvc-flask': datetime.timedelta(days=910, seconds=58500),\n",
              " 'sbimochan/word-finder': datetime.timedelta(days=1493, seconds=51180),\n",
              " 'haxamxam/Flask-Python-E-Commerce-Website': datetime.timedelta(days=1069, seconds=54180),\n",
              " 'pri1311/crunch': datetime.timedelta(days=1013, seconds=19860)}"
            ]
          },
          "metadata": {},
          "execution_count": 35
        }
      ],
      "source": [
        "repo_created_date_map = {}\n",
        "\n",
        "for i in range(len(repos_list)):\n",
        "    date = get_datetime(created_date_list[i])\n",
        "    repo_created_date_map[repos_list[i]] = date\n",
        "repo_update_date_map = {}\n",
        "for i in range(len(repos_list)):\n",
        "    date = get_datetime(last_updated_date_list[i])\n",
        "    repo_update_date_map[repos_list[i]] = date\n",
        "repo_life_map = {}\n",
        "for repo in repos_list:\n",
        "    repo_life_map[repo] = repo_update_date_map[repo] - repo_created_date_map[repo]\n",
        "repo_life_map"
      ],
      "id": "da9b14b4"
    },
    {
      "cell_type": "code",
      "execution_count": null,
      "metadata": {
        "colab": {
          "base_uri": "https://localhost:8080/"
        },
        "id": "6ea1d048",
        "outputId": "7a938679-3f34-4efb-d3cd-e90df2cc4ce3"
      },
      "outputs": [
        {
          "output_type": "execute_result",
          "data": {
            "text/plain": [
              "400"
            ]
          },
          "metadata": {},
          "execution_count": 36
        }
      ],
      "source": [
        "parent_list = repo_df['parent']\n",
        "parent_list.isnull().sum()"
      ],
      "id": "6ea1d048"
    },
    {
      "cell_type": "code",
      "execution_count": null,
      "metadata": {
        "id": "e063af0f"
      },
      "outputs": [],
      "source": [
        "contributors_list = repo_df['contributors_list']"
      ],
      "id": "e063af0f"
    },
    {
      "cell_type": "code",
      "execution_count": null,
      "metadata": {
        "id": "fac9470a"
      },
      "outputs": [],
      "source": [
        "watchers_list = repo_df['watchers_list'].apply(literal_eval)"
      ],
      "id": "fac9470a"
    },
    {
      "cell_type": "code",
      "execution_count": null,
      "metadata": {
        "id": "38bc1683"
      },
      "outputs": [],
      "source": [],
      "id": "38bc1683"
    },
    {
      "cell_type": "code",
      "execution_count": null,
      "metadata": {
        "id": "8bce0231"
      },
      "outputs": [],
      "source": [
        "forkers_list = repo_df['forkers_list'].apply(literal_eval)"
      ],
      "id": "8bce0231"
    },
    {
      "cell_type": "code",
      "execution_count": null,
      "metadata": {
        "id": "0e0681d7"
      },
      "outputs": [],
      "source": [
        "stargazers_list = repo_df['stargazers_list'].apply(literal_eval)"
      ],
      "id": "0e0681d7"
    },
    {
      "cell_type": "code",
      "execution_count": null,
      "metadata": {
        "id": "064a12f4"
      },
      "outputs": [],
      "source": [
        "assigness_list = repo_df['assignees_list'].apply(literal_eval)"
      ],
      "id": "064a12f4"
    },
    {
      "cell_type": "code",
      "execution_count": null,
      "metadata": {
        "id": "fb95b1a5"
      },
      "outputs": [],
      "source": [
        "pull_commenters_list = repo_df['pull_commenter'].apply(literal_eval)"
      ],
      "id": "fb95b1a5"
    },
    {
      "cell_type": "code",
      "execution_count": null,
      "metadata": {
        "id": "06766dd5"
      },
      "outputs": [],
      "source": [
        "issuers_list = repo_df['issuers_list'].apply(literal_eval)"
      ],
      "id": "06766dd5"
    },
    {
      "cell_type": "markdown",
      "metadata": {
        "id": "15d06bc9"
      },
      "source": [
        "# basic statistics"
      ],
      "id": "15d06bc9"
    },
    {
      "cell_type": "code",
      "execution_count": null,
      "metadata": {
        "id": "3ee36d6c"
      },
      "outputs": [],
      "source": [
        "def get_count_map(alist_of_list):\n",
        "    count_map = {}\n",
        "    for alist in alist_of_list:\n",
        "        if len(alist) in count_map:\n",
        "            count_map[len(alist)] += 1\n",
        "        else:\n",
        "            count_map[len(alist)] = 1\n",
        "    count_map = {k: v for k, v in sorted(count_map.items(), key=lambda item: item[0])}\n",
        "    return count_map"
      ],
      "id": "3ee36d6c"
    },
    {
      "cell_type": "code",
      "execution_count": null,
      "metadata": {
        "id": "ba85631c"
      },
      "outputs": [],
      "source": [
        "contributors_count_map = get_count_map(contributors_list)\n",
        "watchers_count_map = get_count_map(watchers_list)\n",
        "forkers_count_map = get_count_map(forkers_list)\n",
        "stargazers_count_map = get_count_map(stargazers_list)\n",
        "assigness_count_map = get_count_map(assigness_list)\n",
        "pull_commenters_count_map = get_count_map(pull_commenters_list)\n",
        "issuers_count_map = get_count_map(issuers_list)"
      ],
      "id": "ba85631c"
    },
    {
      "cell_type": "markdown",
      "metadata": {
        "id": "0a637124"
      },
      "source": [
        "# remove benign things from the dataset"
      ],
      "id": "0a637124"
    },
    {
      "cell_type": "code",
      "execution_count": null,
      "metadata": {
        "id": "1f363796"
      },
      "outputs": [],
      "source": [
        "def remove_benign_authors(alist_of_list, flask_authors):\n",
        "    new_list = []\n",
        "    for alist in alist_of_list:\n",
        "        temp = []\n",
        "        for val in alist:\n",
        "            if val in flask_authors:\n",
        "                temp.append(val)\n",
        "        new_list.append(temp)\n",
        "    return new_list\n"
      ],
      "id": "1f363796"
    },
    {
      "cell_type": "code",
      "execution_count": null,
      "metadata": {
        "colab": {
          "base_uri": "https://localhost:8080/"
        },
        "id": "0aad9186",
        "outputId": "9013af7b-7c4a-4dd9-aef5-1683cf3691d5"
      },
      "outputs": [
        {
          "output_type": "execute_result",
          "data": {
            "text/plain": [
              "0                ['Ketouem', 'boroivanov', 'iamjohnnym']\n",
              "1      ['aromanovich', 'guruofgentoo', 'hnrd', 'bchop...\n",
              "2                                            ['delsner']\n",
              "3      ['toddbirchard', 'renovate-bot', 'dependabot[b...\n",
              "4      ['kritikaparmar-programmer', 'utkarsh0702', 'a...\n",
              "                             ...                        \n",
              "395    ['PierrePaul', 'abondis', 'vevmesteren', 'Caly...\n",
              "396            ['marcuxyz', 'dependabot[bot]', 'taconi']\n",
              "397            ['sbimochan', 'Basanta78', 'aviskarkc10']\n",
              "398                             ['haxamxam', 'mariobox']\n",
              "399                         ['pri1311', 'Jainam-Dharod']\n",
              "Name: contributors_list, Length: 400, dtype: object"
            ]
          },
          "metadata": {},
          "execution_count": 47
        }
      ],
      "source": [
        "contributors_list"
      ],
      "id": "0aad9186"
    },
    {
      "cell_type": "code",
      "execution_count": null,
      "metadata": {
        "colab": {
          "base_uri": "https://localhost:8080/"
        },
        "id": "993b1866",
        "outputId": "7f787d41-7c2f-4efe-e8f3-46f565988dc6"
      },
      "outputs": [
        {
          "output_type": "stream",
          "name": "stdout",
          "text": [
            "\n"
          ]
        }
      ],
      "source": [
        "contributors_list2 = remove_benign_authors(contributors_list, list(authors_list))\n",
        "watchers_list2 = remove_benign_authors(watchers_list, list(authors_list))\n",
        "forkers_list2 = remove_benign_authors(forkers_list, list(authors_list))\n",
        "stargazers_list2 = remove_benign_authors(stargazers_list, list(authors_list))\n",
        "assigness_list2 = remove_benign_authors(assigness_list, list(authors_list))\n",
        "pull_commenters_list2 = remove_benign_authors(pull_commenters_list, list(authors_list))\n",
        "issuers_list2 = remove_benign_authors(issuers_list, list(authors_list))\n",
        "print()"
      ],
      "id": "993b1866"
    },
    {
      "cell_type": "code",
      "execution_count": null,
      "metadata": {
        "id": "8c706f14"
      },
      "outputs": [],
      "source": [
        "contributors_count_map2 = get_count_map(contributors_list2)\n",
        "watchers_count_map2 = get_count_map(watchers_list2)\n",
        "forkers_count_map2 = get_count_map(forkers_list2)\n",
        "stargazers_count_map2 = get_count_map(stargazers_list2)\n",
        "assigness_count_map2 = get_count_map(assigness_list2)\n",
        "pull_commenters_count_map2 = get_count_map(pull_commenters_list2)\n",
        "issuers_count_map2 = get_count_map(issuers_list2)"
      ],
      "id": "8c706f14"
    },
    {
      "cell_type": "code",
      "execution_count": null,
      "metadata": {
        "id": "341822ee"
      },
      "outputs": [],
      "source": [
        "def create_repo_author_map(alist_of_list, repos_list):\n",
        "    repo_author_map = {}\n",
        "    for i in range(0, len(repos_list)):\n",
        "        if len(alist_of_list[i]) > 0:\n",
        "                repo_author_map[repos_list[i]] = alist_of_list[i]\n",
        "    return repo_author_map"
      ],
      "id": "341822ee"
    },
    {
      "cell_type": "code",
      "execution_count": null,
      "metadata": {
        "id": "19077b44"
      },
      "outputs": [],
      "source": [
        "contributors_map = create_repo_author_map(contributors_list2, repos_list)\n",
        "watchers_map = create_repo_author_map(watchers_list2, repos_list)\n",
        "forkers_map = create_repo_author_map(forkers_list2, repos_list)\n",
        "stargazers_map = create_repo_author_map(stargazers_list2, repos_list)\n",
        "assigness_map = create_repo_author_map(assigness_list2, repos_list)\n",
        "pull_commenters_map = create_repo_author_map(pull_commenters_list2, repos_list)\n",
        "issuers_map = create_repo_author_map(issuers_list2, repos_list)"
      ],
      "id": "19077b44"
    },
    {
      "cell_type": "code",
      "execution_count": null,
      "metadata": {
        "id": "24a0ffe4-fce6-44ee-b6d1-e24c323dbc4e"
      },
      "outputs": [],
      "source": [
        "repo_authors_map = {}\n",
        "for i in range(0, len(repos_list)):\n",
        "    repo_authors_map[repos_list[i]] = authors_list[i]\n",
        "author_parent_map = {}\n",
        "repo_parent_map = {}\n",
        "parent_list = list(parent_list)\n",
        "#count = 0\n",
        "for i in range(0, len(authors_list)):\n",
        "    if type(parent_list[i]) != float:\n",
        "        author_parent_map[authors_list[i]] = parent_list[i]\n",
        "        repo_parent_map[repos_list[i]] = parent_list[i]\n",
        "    else:\n",
        "        author_parent_map[authors_list[i]] = authors_list[i]\n",
        "        repo_parent_map[repos_list[i]] = repos_list[i]"
      ],
      "id": "24a0ffe4-fce6-44ee-b6d1-e24c323dbc4e"
    },
    {
      "cell_type": "markdown",
      "metadata": {
        "id": "99d223c6"
      },
      "source": [
        "# user data"
      ],
      "id": "99d223c6"
    },
    {
      "cell_type": "code",
      "execution_count": null,
      "metadata": {
        "colab": {
          "base_uri": "https://localhost:8080/"
        },
        "id": "6562b45c",
        "outputId": "74b8a5ed-8396-4efd-95df-152f206d6a78"
      },
      "outputs": [
        {
          "output_type": "execute_result",
          "data": {
            "text/plain": [
              "(400, 5)"
            ]
          },
          "metadata": {},
          "execution_count": 53
        }
      ],
      "source": [
        "user_df = read_text('./merged_flask_users.csv')\n",
        "user_df.shape"
      ],
      "id": "6562b45c"
    },
    {
      "cell_type": "code",
      "execution_count": null,
      "metadata": {
        "id": "a985e17c-980a-45b0-8483-233b366100ce"
      },
      "outputs": [],
      "source": [
        "user_df[\"updated_at\"] = pd.to_datetime(user_df[\"updated_at\"]).dt.strftime(\"%Y-%m-%d %H:%M:%S\")\n",
        "user_df[\"created_at\"] = pd.to_datetime(user_df[\"created_at\"]).dt.strftime(\"%Y-%m-%d %H:%M:%S\")"
      ],
      "id": "a985e17c-980a-45b0-8483-233b366100ce"
    },
    {
      "cell_type": "code",
      "execution_count": null,
      "metadata": {
        "id": "6e9d8e05"
      },
      "outputs": [],
      "source": [
        "author_from_udata = user_df['author']\n",
        "created_date_author = user_df['created_at']\n",
        "update_date_author = user_df['updated_at']\n",
        "repo_count_list = user_df['repo_count']"
      ],
      "id": "6e9d8e05"
    },
    {
      "cell_type": "code",
      "execution_count": null,
      "metadata": {
        "colab": {
          "base_uri": "https://localhost:8080/"
        },
        "id": "679cf260",
        "outputId": "81ef038a-5179-43b9-d975-5b6c64b3c234"
      },
      "outputs": [
        {
          "output_type": "execute_result",
          "data": {
            "text/plain": [
              "{'Ketouem': datetime.timedelta(days=2465, seconds=80612),\n",
              " 'level12': datetime.timedelta(days=3505, seconds=62087),\n",
              " 'delsner': datetime.timedelta(days=2226, seconds=86078),\n",
              " 'toddbirchard': datetime.timedelta(days=1799, seconds=58281),\n",
              " 'kritikaparmar-programmer': datetime.timedelta(days=1214, seconds=64956),\n",
              " 'johnnncodes': datetime.timedelta(days=2460, seconds=50931),\n",
              " 'cgauge': datetime.timedelta(days=1564, seconds=35011),\n",
              " 'dushan14': datetime.timedelta(days=1969, seconds=28669),\n",
              " 'hypebeast': datetime.timedelta(days=2271, seconds=11699),\n",
              " 'johnwheeler': datetime.timedelta(days=2616, seconds=40161),\n",
              " 'mayurvkorde': datetime.timedelta(days=919, seconds=12887),\n",
              " 'CharlyJazz': datetime.timedelta(days=2410, seconds=25415),\n",
              " 'fengsp': datetime.timedelta(days=3072, seconds=7378),\n",
              " 'danionescu0': datetime.timedelta(days=2595, seconds=81186),\n",
              " 'sunscrapers': datetime.timedelta(days=2507, seconds=20403),\n",
              " 'twaldear': datetime.timedelta(days=3173, seconds=59051),\n",
              " 'gtancev': datetime.timedelta(days=1270, seconds=8920),\n",
              " 'MattToegel': datetime.timedelta(days=1045, seconds=40901),\n",
              " 'microsoft': datetime.timedelta(days=2181, seconds=55498),\n",
              " 'webmagicinformatica': datetime.timedelta(days=1399, seconds=67744),\n",
              " 'ynakayama': datetime.timedelta(days=2940, seconds=50042),\n",
              " 'hasankhan': datetime.timedelta(days=3683, seconds=16564),\n",
              " 'adyouri': datetime.timedelta(days=594, seconds=31662),\n",
              " 'ritvikkhanna09': datetime.timedelta(days=1500, seconds=5838),\n",
              " 'Paradoxis': datetime.timedelta(days=1878, seconds=39065),\n",
              " 'gbourniq': datetime.timedelta(days=1859, seconds=53622),\n",
              " 'alkhalifas': datetime.timedelta(days=1060, seconds=80964),\n",
              " 'Azure-Samples': datetime.timedelta(days=2359, seconds=79504),\n",
              " 'aixiamomo': datetime.timedelta(days=2645, seconds=85647),\n",
              " 'amitvkulkarni': datetime.timedelta(days=1228, seconds=61410),\n",
              " 'kb22': datetime.timedelta(days=1644, seconds=3325),\n",
              " 'gofynd': datetime.timedelta(days=2118, seconds=41158),\n",
              " 'IBM-Cloud': datetime.timedelta(days=3163, seconds=24179),\n",
              " 'sh4nks': datetime.timedelta(days=3497, seconds=32329),\n",
              " 'moinudeen': datetime.timedelta(days=2621, seconds=60627),\n",
              " 'prashanthmadi': datetime.timedelta(days=1584, seconds=73508),\n",
              " 'matdoering': datetime.timedelta(days=1104, seconds=47443),\n",
              " 'RajKKapadia': datetime.timedelta(days=480, seconds=39487),\n",
              " 'jpf': datetime.timedelta(days=4169, seconds=14164),\n",
              " 'zenyui': datetime.timedelta(days=1843, seconds=28926),\n",
              " 'aws-samples': datetime.timedelta(days=153, seconds=17011),\n",
              " 'SigNoz': datetime.timedelta(days=936, seconds=85996),\n",
              " 'dternyak': datetime.timedelta(days=802, seconds=55857),\n",
              " 'su600': datetime.timedelta(days=1401, seconds=47880),\n",
              " 'TheCloudWorld': datetime.timedelta(days=507, seconds=84394),\n",
              " 'satriani04': datetime.timedelta(days=2234, seconds=67173),\n",
              " 'SI-364-F17': datetime.timedelta(days=708, seconds=76092),\n",
              " 'codesagar': datetime.timedelta(days=2689, seconds=50895),\n",
              " 'InnoFang': datetime.timedelta(days=1919, seconds=73055),\n",
              " 'tiangolo': datetime.timedelta(days=1728, seconds=8532),\n",
              " 'kanuarj': datetime.timedelta(days=1905, seconds=76881),\n",
              " 'venugopalkadamba': datetime.timedelta(days=1033, seconds=13665),\n",
              " 'aws-troutman': datetime.timedelta(days=1103, seconds=32630),\n",
              " 'yutinggong': datetime.timedelta(days=1599, seconds=23518),\n",
              " 'lacioffi': datetime.timedelta(days=1, seconds=44212),\n",
              " 'IBM': datetime.timedelta(days=1942, seconds=64591),\n",
              " 'msoedov': datetime.timedelta(days=2446, seconds=521),\n",
              " 'gayu-thri': datetime.timedelta(days=1468, seconds=22067),\n",
              " 'vmadhv': datetime.timedelta(days=362, seconds=23233),\n",
              " 'macagua': datetime.timedelta(days=1438, seconds=55926),\n",
              " 'muxuezi': datetime.timedelta(days=1792, seconds=60758),\n",
              " 'Faruqt': datetime.timedelta(days=823, seconds=71545),\n",
              " 'miguelgrinberg': datetime.timedelta(days=1663, seconds=48458),\n",
              " 'mbr': datetime.timedelta(days=3895, seconds=73986),\n",
              " 'alexandermendes': datetime.timedelta(days=2844, seconds=24508),\n",
              " 'fullstackpython': datetime.timedelta(days=2217, seconds=78246),\n",
              " 'Swap76': datetime.timedelta(days=571, seconds=37962),\n",
              " 'mertcangokgoz': datetime.timedelta(days=2562, seconds=10709),\n",
              " 'nathanwright1242': datetime.timedelta(days=1683, seconds=7313),\n",
              " 'shoyo': datetime.timedelta(days=1512, seconds=56047),\n",
              " 'jinykim68': datetime.timedelta(days=1602, seconds=50811),\n",
              " 'cvitter': datetime.timedelta(days=1884, seconds=49821),\n",
              " 'AmI-2018': datetime.timedelta(seconds=94),\n",
              " 'angstwad': datetime.timedelta(days=3233, seconds=12771),\n",
              " 'mardix': datetime.timedelta(days=3001, seconds=14495),\n",
              " 'apereo': datetime.timedelta(days=2292, seconds=15670),\n",
              " 'VerSprite': datetime.timedelta(days=2590, seconds=31429),\n",
              " 'tstokrk': datetime.timedelta(days=1901, seconds=396),\n",
              " 'kvesteri': datetime.timedelta(days=3495, seconds=36073),\n",
              " 'mattfinnell': datetime.timedelta(days=2265, seconds=60777),\n",
              " 'tecladocode': datetime.timedelta(days=1884, seconds=79500),\n",
              " 'level09': datetime.timedelta(days=3535, seconds=84731),\n",
              " 'jungleBadger': datetime.timedelta(days=1127, seconds=77258),\n",
              " 'beenje': datetime.timedelta(days=2068, seconds=34235),\n",
              " 'mattupstate': datetime.timedelta(days=4090, seconds=25163),\n",
              " 'diegoinacio': datetime.timedelta(days=1471, seconds=69026),\n",
              " 'Depado': datetime.timedelta(days=3552, seconds=68006),\n",
              " 'department-of-veterans-affairs': datetime.timedelta(days=1649, seconds=79737),\n",
              " 'etmoore': datetime.timedelta(days=2406, seconds=60850),\n",
              " 'redis-developer': datetime.timedelta(days=748, seconds=82998),\n",
              " 'leemengtw': datetime.timedelta(days=1682, seconds=34589),\n",
              " 'yoshiya0503': datetime.timedelta(days=2571, seconds=64209),\n",
              " 'nidhinp': datetime.timedelta(days=3671, seconds=80682),\n",
              " 'albertogg': datetime.timedelta(days=3825, seconds=59297),\n",
              " 'olayinkaos': datetime.timedelta(days=2313, seconds=72519),\n",
              " 'uwi-info3180': datetime.timedelta(days=1840, seconds=7905),\n",
              " 'syedsaadahmed': datetime.timedelta(days=1982, seconds=42925),\n",
              " 'DhirajKelhe': datetime.timedelta(days=834, seconds=18495),\n",
              " 'MirelaI': datetime.timedelta(days=2025, seconds=19429),\n",
              " 'dorotawm': datetime.timedelta(days=364, seconds=30991),\n",
              " 'prof-rossetti': datetime.timedelta(days=449, seconds=43917),\n",
              " 'mjhea0': datetime.timedelta(days=4038, seconds=46478),\n",
              " 'isheunesutembo': datetime.timedelta(days=1413, seconds=79557),\n",
              " 'm-kortas': datetime.timedelta(days=1576, seconds=77079),\n",
              " 'marcuxyz': datetime.timedelta(days=910, seconds=58526),\n",
              " 'Shir0kamii': datetime.timedelta(days=2411, seconds=9110),\n",
              " 'itzvnl': datetime.timedelta(days=1292, seconds=8181),\n",
              " 'tsileo': datetime.timedelta(days=3665, seconds=77678),\n",
              " 'nikos': datetime.timedelta(days=2209, seconds=63868),\n",
              " 'Snickdx': datetime.timedelta(days=1046, seconds=15644),\n",
              " 'meta-toolkit': datetime.timedelta(days=2847, seconds=67443),\n",
              " 'antarctica': datetime.timedelta(days=996, seconds=588),\n",
              " 'raoumairwaheed': datetime.timedelta(days=234, seconds=9900),\n",
              " 'fonylew': datetime.timedelta(days=1373, seconds=23091),\n",
              " 'marchibbins': datetime.timedelta(days=3346, seconds=67446),\n",
              " 'alphasecio': datetime.timedelta(days=411, seconds=25834),\n",
              " 'navapbc': datetime.timedelta(days=455, seconds=8276),\n",
              " 'fogleman': datetime.timedelta(days=4269, seconds=73515),\n",
              " 'kadnan': datetime.timedelta(days=923, seconds=36611),\n",
              " 'radoondas': datetime.timedelta(days=1515, seconds=8871),\n",
              " 'Santhoshkumard11': datetime.timedelta(days=521, seconds=14797),\n",
              " 'karthikeyan5': datetime.timedelta(days=1924, seconds=79213),\n",
              " 'idris-rampurawala': datetime.timedelta(days=1316, seconds=41804),\n",
              " 'info3180': datetime.timedelta(days=1791, seconds=41711),\n",
              " 'vitalk': datetime.timedelta(days=2007, seconds=17145),\n",
              " 'testdrivenio': datetime.timedelta(days=1061, seconds=13389),\n",
              " 'bobbui': datetime.timedelta(days=1739, seconds=76187),\n",
              " 'syqu22': datetime.timedelta(days=925, seconds=19032),\n",
              " 'lmeunier': datetime.timedelta(days=4302, seconds=65787),\n",
              " 'ContinuumIO': datetime.timedelta(days=2835, seconds=27860),\n",
              " 'swisscom': datetime.timedelta(days=2004, seconds=42185),\n",
              " 'putuwaw': datetime.timedelta(days=444, seconds=52178),\n",
              " 'sebsto': datetime.timedelta(days=3059, seconds=25655),\n",
              " 'kinsta': datetime.timedelta(days=483, seconds=22655),\n",
              " 'DuncanJF': datetime.timedelta(days=30, seconds=53222),\n",
              " 'mudasiryounas': datetime.timedelta(days=1574, seconds=83840),\n",
              " 'jarodl': datetime.timedelta(days=3709, seconds=44584),\n",
              " 'forrestyishichen': datetime.timedelta(days=2104, seconds=1625),\n",
              " 'mrgambal': datetime.timedelta(days=3255, seconds=1200),\n",
              " 'nyu-software-engineering': datetime.timedelta(days=440, seconds=8460),\n",
              " 'senseta-os': datetime.timedelta(days=2113, seconds=9170),\n",
              " 'AmyangXYZ': datetime.timedelta(days=2427, seconds=77323),\n",
              " 'macloo': datetime.timedelta(days=2066, seconds=84929),\n",
              " 'itsron143': datetime.timedelta(days=1325, seconds=45142),\n",
              " 'itsimplified': datetime.timedelta(days=2083, seconds=81488),\n",
              " 'fabric8-analytics': datetime.timedelta(days=999, seconds=38926),\n",
              " 'jvuori': datetime.timedelta(days=2917, seconds=24149),\n",
              " 'sumanentc': datetime.timedelta(days=992, seconds=48265),\n",
              " 'wgopar': datetime.timedelta(days=1344, seconds=58753),\n",
              " 'fnava621': datetime.timedelta(days=2400, seconds=48791),\n",
              " 'griimnak': datetime.timedelta(days=2124, seconds=77050),\n",
              " 'gokulapap': datetime.timedelta(days=764, seconds=236),\n",
              " 'Digital-Signage-Slideshow': datetime.timedelta(days=1420, seconds=84335),\n",
              " 'dqminh': datetime.timedelta(days=3733, seconds=40034),\n",
              " 'nirzaf': datetime.timedelta(days=1492, seconds=47848),\n",
              " 'NoblesseCoder': datetime.timedelta(days=2196, seconds=11238),\n",
              " 'COUR4G3': datetime.timedelta(days=2857, seconds=80401),\n",
              " 'SidneyJob': datetime.timedelta(days=259, seconds=28942),\n",
              " 'romeokienzler': datetime.timedelta(days=1378, seconds=42829),\n",
              " 'dainnilsson': datetime.timedelta(days=2928, seconds=50272),\n",
              " 'nikhilkumar4443': datetime.timedelta(days=90, seconds=71987),\n",
              " 'klzns': datetime.timedelta(days=3197, seconds=66069),\n",
              " 'adriencaccia': datetime.timedelta(days=1017, seconds=34892),\n",
              " 'gbroccolo': datetime.timedelta(days=1356, seconds=81381),\n",
              " 'shazforiot': datetime.timedelta(days=303, seconds=70739),\n",
              " 'yoni2k': datetime.timedelta(days=1097, seconds=50060),\n",
              " 'SeaRhyme7th': datetime.timedelta(days=1363, seconds=33573),\n",
              " 'allaredko': datetime.timedelta(days=1904, seconds=62716),\n",
              " 'gaotongfei': datetime.timedelta(days=2801, seconds=76415),\n",
              " 'J-Mourad': datetime.timedelta(days=1170, seconds=21937),\n",
              " 'hugom1997': datetime.timedelta(days=1130, seconds=22811),\n",
              " 'eficode-academy': datetime.timedelta(days=304, seconds=30745),\n",
              " 'TwilioDevEd': datetime.timedelta(days=2642, seconds=40473),\n",
              " 'faizanbashir': datetime.timedelta(days=1739, seconds=43077),\n",
              " 'rememberlenny': datetime.timedelta(days=1820, seconds=63610),\n",
              " 'Simple2B': datetime.timedelta(days=1194, seconds=77313),\n",
              " 'safakozdek': datetime.timedelta(days=1335, seconds=64152),\n",
              " 'LukaszMalucha': datetime.timedelta(days=1641, seconds=34734),\n",
              " 'CiscoDevNet': datetime.timedelta(days=2282, seconds=72389),\n",
              " 'adamcrosby': datetime.timedelta(days=2675, seconds=49612),\n",
              " 'ahnaf-zamil': datetime.timedelta(days=211, seconds=12711),\n",
              " 'syaffers': datetime.timedelta(days=1525, seconds=25045),\n",
              " 'py-package': datetime.timedelta(days=891, seconds=12355),\n",
              " 'marktennyson': datetime.timedelta(days=872, seconds=8520),\n",
              " 'volkerp': datetime.timedelta(days=1714, seconds=10610),\n",
              " 'bogdan-alexandrescu': datetime.timedelta(days=2938, seconds=80244),\n",
              " 'holyfiddlex': datetime.timedelta(days=1495, seconds=75409),\n",
              " 'gabrielbessler': datetime.timedelta(days=1714, seconds=69789),\n",
              " 'adamshamsudeen': datetime.timedelta(days=1674, seconds=56694),\n",
              " 'studio-salamander': datetime.timedelta(days=2589, seconds=34033),\n",
              " 'vukan-markovic': datetime.timedelta(days=2062, seconds=31996),\n",
              " 'DanielArturoAlejoAlvarez': datetime.timedelta(days=1317, seconds=53596),\n",
              " 'verdan': datetime.timedelta(days=1340, seconds=59077),\n",
              " 'stephen-mcneal': datetime.timedelta(days=586, seconds=40395),\n",
              " 'pythonthusiast': datetime.timedelta(days=3211, seconds=30230),\n",
              " '1Hanif1': datetime.timedelta(days=687, seconds=34955),\n",
              " 'andrewrosss': datetime.timedelta(days=987, seconds=43297),\n",
              " 'SI364-Winter2018': datetime.timedelta(days=1001, seconds=75159),\n",
              " 'dueka': datetime.timedelta(days=486, seconds=64051),\n",
              " 'dtiesling': datetime.timedelta(days=133, seconds=8181),\n",
              " 'melvin0008': datetime.timedelta(days=2706, seconds=67101),\n",
              " 'ryanmcdermott': datetime.timedelta(days=2612, seconds=26087),\n",
              " 'ThunderousFigs': datetime.timedelta(days=2471, seconds=23075),\n",
              " 'EijiTomonari': datetime.timedelta(days=578, seconds=68651),\n",
              " 'jod35': datetime.timedelta(days=966, seconds=34007),\n",
              " 'TrystanLea': datetime.timedelta(days=1301, seconds=32967),\n",
              " 'blueswen': datetime.timedelta(days=670, seconds=54074),\n",
              " 'mitkir': datetime.timedelta(days=1482, seconds=40774),\n",
              " 'cogitovirus': datetime.timedelta(days=331, seconds=22763),\n",
              " 'hartleybrody': datetime.timedelta(days=3597, seconds=15975),\n",
              " 'contactvaibhavi': datetime.timedelta(days=2158, seconds=44094),\n",
              " 'dineshpiyasamara': datetime.timedelta(days=634, seconds=84171),\n",
              " 'AdityaPai2398': datetime.timedelta(days=1238, seconds=27023),\n",
              " 'asthasharma98': datetime.timedelta(days=1047, seconds=49957),\n",
              " 'Eyongkevin': datetime.timedelta(days=1633, seconds=8380),\n",
              " 'nezaj': datetime.timedelta(days=3472, seconds=8594),\n",
              " 'zobayer1': datetime.timedelta(days=853, seconds=13288),\n",
              " 'munhitsu': datetime.timedelta(days=3885, seconds=80290),\n",
              " 'playpauseandstop': datetime.timedelta(days=3900, seconds=58056),\n",
              " 'maarten-dp': datetime.timedelta(days=1409, seconds=83133),\n",
              " 'kubevirt': datetime.timedelta(days=2466, seconds=24116),\n",
              " 'realScipio': datetime.timedelta(days=1991, seconds=205),\n",
              " 'FusionAuth': datetime.timedelta(days=1184, seconds=24477),\n",
              " 'teamgeek-io': datetime.timedelta(days=1085, seconds=81531),\n",
              " 'jomariya23156': datetime.timedelta(days=1039, seconds=47383),\n",
              " 'AndrewRPorter': datetime.timedelta(days=1416, seconds=49136),\n",
              " 'buildflaskapp': datetime.timedelta(days=1126, seconds=9461),\n",
              " 'corydolphin': datetime.timedelta(days=2347, seconds=59071),\n",
              " 'Redpill-Linpro': datetime.timedelta(days=622, seconds=18080),\n",
              " 'Neo-Hao': datetime.timedelta(days=1409, seconds=10269),\n",
              " 'hamdell': datetime.timedelta(days=2293, seconds=56286),\n",
              " 'wilfilho': datetime.timedelta(days=1609, seconds=72873),\n",
              " 'angudadevops': datetime.timedelta(days=633, seconds=57015),\n",
              " 'duplxey': datetime.timedelta(days=439, seconds=2467),\n",
              " 'sandialabs': datetime.timedelta(days=1425, seconds=62486),\n",
              " 'incubated-geek-cc': datetime.timedelta(days=1142, seconds=37931),\n",
              " 'dreamingechoes': datetime.timedelta(days=2256, seconds=70145),\n",
              " 'flomflam': datetime.timedelta(days=2, seconds=72513),\n",
              " 'aasu14': datetime.timedelta(days=1581, seconds=8558),\n",
              " 'Lincoln-LM': datetime.timedelta(days=590, seconds=63123),\n",
              " 'Yekai-Yu': datetime.timedelta(days=1728, seconds=747),\n",
              " 'C-Anirudh': datetime.timedelta(seconds=6941),\n",
              " 'SwagLyrics': datetime.timedelta(days=2220, seconds=71090),\n",
              " 'jdaroesti': datetime.timedelta(days=2135, seconds=73718),\n",
              " 'Nooraldin2001': datetime.timedelta(days=135, seconds=42035),\n",
              " 'Zeeshanahmad4': datetime.timedelta(days=1540, seconds=19565),\n",
              " 'Prev': datetime.timedelta(days=1207, seconds=74382),\n",
              " 'alfredodeza': datetime.timedelta(days=540, seconds=44380),\n",
              " 'wgkoro': datetime.timedelta(days=2132, seconds=80974),\n",
              " 'ryanwang520': datetime.timedelta(days=2163, seconds=69042),\n",
              " 'tylernchls': datetime.timedelta(days=2166, seconds=1455),\n",
              " 'Januzellij': datetime.timedelta(days=2658, seconds=33976),\n",
              " 'Code-Institute-Solutions': datetime.timedelta(days=502, seconds=16963),\n",
              " 'uysalemre': datetime.timedelta(days=1928, seconds=10292),\n",
              " 'calltracking': datetime.timedelta(days=2285, seconds=81163),\n",
              " 'brijeshb42': datetime.timedelta(days=1728, seconds=15887),\n",
              " 'drivet': datetime.timedelta(days=1607, seconds=73420),\n",
              " 'adatlabor': datetime.timedelta(days=3888, seconds=26441),\n",
              " 'FeLoe': datetime.timedelta(days=2187, seconds=10904),\n",
              " 'RamonWill': datetime.timedelta(days=1476, seconds=77534),\n",
              " 'harshays': datetime.timedelta(days=2928, seconds=75228),\n",
              " 'lalithpolepeddi': datetime.timedelta(days=2667, seconds=33026),\n",
              " 'fatematzuhora': datetime.timedelta(days=1431, seconds=10074),\n",
              " 'ZoranPandovski': datetime.timedelta(days=1142, seconds=56576),\n",
              " 'ahmdrz': datetime.timedelta(days=2025, seconds=84364),\n",
              " 'allansifuna': datetime.timedelta(days=1561, seconds=81208),\n",
              " 'dorajistyle': datetime.timedelta(days=2629, seconds=5145),\n",
              " 'Harivind': datetime.timedelta(days=1410, seconds=13500),\n",
              " 'gAmadorH': datetime.timedelta(days=1006, seconds=23045),\n",
              " 'agallant': datetime.timedelta(days=109, seconds=23766),\n",
              " 'radekstepan': datetime.timedelta(days=4183, seconds=82411),\n",
              " 'shepilov-vladislav': datetime.timedelta(days=2640, seconds=39865),\n",
              " 'MoTechStore': datetime.timedelta(days=822, seconds=1605),\n",
              " 'jhorneman': datetime.timedelta(days=4311, seconds=75166),\n",
              " 'riZZZhik': datetime.timedelta(days=341, seconds=37989),\n",
              " 'jannehansen': datetime.timedelta(days=1914, seconds=28028),\n",
              " 'vipinc007': datetime.timedelta(days=2017, seconds=10458),\n",
              " 'weapp': datetime.timedelta(days=2003, seconds=31786),\n",
              " 'Tyzer34': datetime.timedelta(days=1715, seconds=78911),\n",
              " 'workos': datetime.timedelta(days=826, seconds=85415),\n",
              " 'robinske': datetime.timedelta(days=1445, seconds=29817),\n",
              " 'MugeraH': datetime.timedelta(days=329, seconds=8521),\n",
              " 'nikdanilov': datetime.timedelta(days=2045, seconds=23408),\n",
              " 'lucassuar': datetime.timedelta(days=1675, seconds=6882),\n",
              " 'StudioQi': datetime.timedelta(days=1368, seconds=65027),\n",
              " 'sbimochan': datetime.timedelta(days=1493, seconds=51206),\n",
              " 'haxamxam': datetime.timedelta(days=1069, seconds=54193),\n",
              " 'pri1311': datetime.timedelta(days=1013, seconds=19882)}"
            ]
          },
          "metadata": {},
          "execution_count": 56
        }
      ],
      "source": [
        "author_created_date_map = {}\n",
        "for i in range(len(author_from_udata)):\n",
        "    date = get_datetime(created_date_author[i])\n",
        "    author_created_date_map[author_from_udata[i]] = date\n",
        "author_update_date_map = {}\n",
        "for i in range(len(author_from_udata)):\n",
        "    date = get_datetime(update_date_author[i])\n",
        "    author_update_date_map[author_from_udata[i]] = date\n",
        "author_life_map = {}\n",
        "for author in author_from_udata:\n",
        "    author_life_map[author] = author_update_date_map[author] - author_created_date_map[author]\n",
        "author_life_map"
      ],
      "id": "679cf260"
    },
    {
      "cell_type": "code",
      "execution_count": null,
      "metadata": {
        "id": "4aaa3cbf"
      },
      "outputs": [],
      "source": [
        "followers_list = user_df['followers_list'].apply(literal_eval)\n",
        "followers_list2 = remove_benign_authors(followers_list, list(authors_list))"
      ],
      "id": "4aaa3cbf"
    },
    {
      "cell_type": "code",
      "execution_count": null,
      "metadata": {
        "id": "f0128a3c"
      },
      "outputs": [],
      "source": [
        "author_follower_map = {}\n",
        "for i in range(0, len(author_from_udata)):\n",
        "    author_follower_map[author_from_udata[i]] = followers_list2[i]"
      ],
      "id": "f0128a3c"
    },
    {
      "cell_type": "code",
      "execution_count": null,
      "metadata": {
        "id": "qPo0NzaLmMpM"
      },
      "outputs": [],
      "source": [
        "def construct_graph(graph_data):\n",
        "  G = nx.DiGraph()\n",
        "  for index,edges in enumerate(graph_data):\n",
        "      if(len(edges) == 0):\n",
        "        continue;\n",
        "      G.add_node(index)  # Ensure all nodes are added\n",
        "      for edge in edges:\n",
        "        G.add_edge(index,edge)\n",
        "  return G"
      ],
      "id": "qPo0NzaLmMpM"
    },
    {
      "cell_type": "markdown",
      "metadata": {
        "id": "4d678248"
      },
      "source": [
        "# create author-author network"
      ],
      "id": "4d678248"
    },
    {
      "cell_type": "code",
      "execution_count": null,
      "metadata": {
        "colab": {
          "base_uri": "https://localhost:8080/"
        },
        "id": "7913f30a-820c-4379-a0fc-8fc8921d54a6",
        "outputId": "ffe613a7-f83d-46a3-a685-9fa235ebaa14"
      },
      "outputs": [
        {
          "output_type": "stream",
          "name": "stdout",
          "text": [
            "Requirement already satisfied: networkx in /usr/local/lib/python3.10/dist-packages (3.2.1)\n"
          ]
        }
      ],
      "source": [
        "pip install networkx"
      ],
      "id": "7913f30a-820c-4379-a0fc-8fc8921d54a6"
    },
    {
      "cell_type": "code",
      "execution_count": null,
      "metadata": {
        "id": "f4655821"
      },
      "outputs": [],
      "source": [
        "import networkx as nx\n",
        "aa = nx.DiGraph()"
      ],
      "id": "f4655821"
    },
    {
      "cell_type": "code",
      "execution_count": null,
      "metadata": {
        "id": "6f2b8f5d-2ddf-4642-b9e7-1fe9bf334ad9"
      },
      "outputs": [],
      "source": [
        "def get_avg_degree(G):\n",
        "    degrees = G.degree()\n",
        "    degrees = dict(degrees)\n",
        "    sum_of_edges = sum(degrees.values())\n",
        "    no_nodes = G.number_of_nodes()\n",
        "    if(no_nodes == 0):\n",
        "      return 0;\n",
        "    avg_degree = 2 * sum_of_edges / no_nodes\n",
        "    return avg_degree"
      ],
      "id": "6f2b8f5d-2ddf-4642-b9e7-1fe9bf334ad9"
    },
    {
      "cell_type": "code",
      "execution_count": null,
      "metadata": {
        "colab": {
          "base_uri": "https://localhost:8080/"
        },
        "id": "HrmEZy7In4zN",
        "outputId": "b3906e21-0b65-43df-d15d-b6d566e54541"
      },
      "outputs": [
        {
          "output_type": "stream",
          "name": "stdout",
          "text": [
            "\n",
            "\n"
          ]
        }
      ],
      "source": [
        "follower = construct_graph(followers_list2)\n",
        "contributor = construct_graph(contributors_list2)\n",
        "stargazers = construct_graph(stargazers_list2)\n",
        "watcher = construct_graph(watchers_list2)\n",
        "commenter = construct_graph(pull_commenters_list2)\n",
        "issuer = construct_graph(issuers_list2)\n",
        "print()\n",
        "forker = construct_graph(forkers_list2)\n",
        "print()"
      ],
      "id": "HrmEZy7In4zN"
    },
    {
      "cell_type": "code",
      "execution_count": null,
      "metadata": {
        "id": "85234c17"
      },
      "outputs": [],
      "source": [
        "d_follower = 1 if get_avg_degree(follower) == 0 else get_avg_degree(follower)\n",
        "d_fork = 1 if get_avg_degree(forker) == 0 else get_avg_degree(forker)\n",
        "d_star = 1 if get_avg_degree(stargazers) == 0 else get_avg_degree(stargazers)\n",
        "d_watch = 1 if get_avg_degree(watcher) == 0 else get_avg_degree(watcher)\n",
        "d_contributor = 1 if get_avg_degree(contributor) == 0 else get_avg_degree(contributor)\n",
        "d_commenter = 1 if get_avg_degree(commenter) == 0 else get_avg_degree(commenter)\n",
        "\n",
        "d_min = d_commenter\n",
        "w_follower = d_min/d_follower\n",
        "w_fork = d_min/d_fork\n",
        "w_star = d_min/d_star\n",
        "w_watch = d_min/d_watch\n",
        "w_contributor = d_min/d_contributor\n",
        "w_commenter = d_min / d_commenter"
      ],
      "id": "85234c17"
    },
    {
      "cell_type": "code",
      "execution_count": null,
      "metadata": {
        "colab": {
          "base_uri": "https://localhost:8080/"
        },
        "id": "10d22a76",
        "outputId": "048e9216-292f-4a03-ed39-6bd4d706aaa7"
      },
      "outputs": [
        {
          "output_type": "execute_result",
          "data": {
            "text/plain": [
              "<networkx.classes.digraph.DiGraph at 0x7d290312fd90>"
            ]
          },
          "metadata": {},
          "execution_count": 65
        }
      ],
      "source": [
        "for author in author_from_udata:\n",
        "    if len(author_follower_map[author]) != 0:\n",
        "        for follower in author_follower_map[author]:\n",
        "            aa.add_weighted_edges_from([(follower, author, w_follower)])\n",
        "\n",
        "aa"
      ],
      "id": "10d22a76"
    },
    {
      "cell_type": "code",
      "execution_count": null,
      "metadata": {
        "id": "0b877c65"
      },
      "outputs": [],
      "source": [
        "followers_nodes = len(list(aa.nodes))\n",
        "followers_edges = len(list(aa.edges))"
      ],
      "id": "0b877c65"
    },
    {
      "cell_type": "code",
      "execution_count": null,
      "metadata": {
        "id": "434daede"
      },
      "outputs": [],
      "source": [
        "# add edge from forking relationship\n",
        "update_count = 0\n",
        "new_edge_fork = 0\n",
        "for repo, forkers in forkers_map.items():\n",
        "    original_author = repo_authors_map[repo]\n",
        "    #print(\"orginal :\", original_author)\n",
        "    for user in forkers:\n",
        "        #print( aa.number_of_edges(user, original_author))\n",
        "        if aa.has_edge(user, original_author):\n",
        "            #print(\"Already edges there\")\n",
        "            old_weight = aa.get_edge_data(user, original_author)['weight']\n",
        "            #print(old_weight)\n",
        "            aa.add_weighted_edges_from([(user, original_author, old_weight+w_fork)])\n",
        "            update_count += 1\n",
        "        else:\n",
        "            aa.add_weighted_edges_from([(user, original_author, w_fork)])\n",
        "            new_edge_fork += 1"
      ],
      "id": "434daede"
    },
    {
      "cell_type": "code",
      "execution_count": null,
      "metadata": {
        "colab": {
          "base_uri": "https://localhost:8080/"
        },
        "id": "5a2533ee",
        "outputId": "1bc432a3-64ed-4d7c-cb77-6bcf6f27fd38"
      },
      "outputs": [
        {
          "output_type": "stream",
          "name": "stdout",
          "text": [
            "Total nodes after adding forking edge:  6\n",
            "Total edges after adding forking edge:  3\n",
            "Number of edges that have been updated:  0\n",
            "Number of new edges that have been added:  3\n",
            "Number of new nodes that have been added:  6\n"
          ]
        }
      ],
      "source": [
        "total_nodes = len(list(aa.nodes))\n",
        "total_edges = len(list(aa.edges))\n",
        "#new_edges = total_edges - update_count\n",
        "new_nodes = total_nodes - followers_nodes\n",
        "print(\"Total nodes after adding forking edge: \", total_nodes)\n",
        "print(\"Total edges after adding forking edge: \", total_edges)\n",
        "print(\"Number of edges that have been updated: \", update_count)\n",
        "print(\"Number of new edges that have been added: \", new_edge_fork)\n",
        "print(\"Number of new nodes that have been added: \", new_nodes)"
      ],
      "id": "5a2533ee"
    },
    {
      "cell_type": "code",
      "execution_count": null,
      "metadata": {
        "id": "48db5ec9"
      },
      "outputs": [],
      "source": [
        "# add edges from stars behavior\n",
        "update_in_stars = 0\n",
        "new_edge = 0\n",
        "starrer = 0\n",
        "for repo, stargazers in stargazers_map.items():\n",
        "    original_author = repo_authors_map[repo]\n",
        "    for user in stargazers:\n",
        "        starrer += 1\n",
        "        if aa.has_edge(user, original_author):\n",
        "            old_weight = aa.get_edge_data(user, original_author)['weight']\n",
        "            aa.add_weighted_edges_from([(user, original_author, old_weight+w_star)])\n",
        "            update_in_stars += 1\n",
        "        else:\n",
        "            aa.add_weighted_edges_from([(user, original_author, w_star)])\n",
        "            new_edge += 1"
      ],
      "id": "48db5ec9"
    },
    {
      "cell_type": "code",
      "execution_count": null,
      "metadata": {
        "colab": {
          "base_uri": "https://localhost:8080/"
        },
        "id": "28f68416",
        "outputId": "cb5de479-3cfb-45a9-c6e2-0b1bd2a6ff0f"
      },
      "outputs": [
        {
          "output_type": "stream",
          "name": "stdout",
          "text": [
            "Total nodes after adding starring edge:  80\n",
            "Total edges after adding starring edge:  78\n",
            "Number of edges that have been updated:  0\n",
            "Number of new edges that have been added:  75\n",
            "total starrer:  75\n"
          ]
        }
      ],
      "source": [
        "total_nodes_adding_stars = len(list(aa.nodes))\n",
        "total_edges_adding_stars = len(list(aa.edges))\n",
        "\n",
        "print(\"Total nodes after adding starring edge: \",total_nodes_adding_stars)\n",
        "print(\"Total edges after adding starring edge: \", total_edges_adding_stars)\n",
        "print(\"Number of edges that have been updated: \", update_in_stars)\n",
        "print(\"Number of new edges that have been added: \", new_edge)\n",
        "print(\"total starrer: \", starrer)"
      ],
      "id": "28f68416"
    },
    {
      "cell_type": "code",
      "execution_count": null,
      "metadata": {
        "id": "ce5cb94d"
      },
      "outputs": [],
      "source": [
        "# add edges from watches behavior\n",
        "update_in_watches = 0\n",
        "new_edge = 0\n",
        "watcher = 0\n",
        "for repo, watchers in watchers_map.items():\n",
        "    original_author = repo_authors_map[repo]\n",
        "    for user in watchers:\n",
        "        watcher += 1\n",
        "        if aa.has_edge(user, original_author):\n",
        "            old_weight = aa.get_edge_data(user, original_author)['weight']\n",
        "            aa.add_weighted_edges_from([(user, original_author, old_weight+w_watch)])\n",
        "            update_in_watches += 1\n",
        "        else:\n",
        "            aa.add_weighted_edges_from([(user, original_author, w_watch)])\n",
        "            new_edge += 1"
      ],
      "id": "ce5cb94d"
    },
    {
      "cell_type": "code",
      "execution_count": null,
      "metadata": {
        "colab": {
          "base_uri": "https://localhost:8080/"
        },
        "id": "d7628130",
        "outputId": "7390379b-fab5-4a33-a28f-0fa97e7a3177"
      },
      "outputs": [
        {
          "output_type": "stream",
          "name": "stdout",
          "text": [
            "Total nodes after adding watching edge:  202\n",
            "Total edges after adding watching edge:  219\n",
            "Number of edges that have been updated:  48\n",
            "Number of new edges that have been added:  141\n",
            "total watcher:  189\n"
          ]
        }
      ],
      "source": [
        "total_nodes_adding_watches = len(list(aa.nodes))\n",
        "total_edges_adding_watches = len(list(aa.edges))\n",
        "print(\"Total nodes after adding watching edge: \",total_nodes_adding_watches)\n",
        "print(\"Total edges after adding watching edge: \", total_edges_adding_watches)\n",
        "print(\"Number of edges that have been updated: \", update_in_watches)\n",
        "print(\"Number of new edges that have been added: \", new_edge)\n",
        "print(\"total watcher: \", watcher)"
      ],
      "id": "d7628130"
    },
    {
      "cell_type": "code",
      "execution_count": null,
      "metadata": {
        "id": "79eebfea"
      },
      "outputs": [],
      "source": [
        "# add edges from contributors behavior\n",
        "update_in_contributors = 0\n",
        "new_edge = 0\n",
        "contributor = 0\n",
        "for repo, contributors in contributors_map.items():\n",
        "    original_author = repo_authors_map[repo]\n",
        "    for user in contributors:\n",
        "        contributor += 1\n",
        "        if aa.has_edge(user, original_author):\n",
        "            old_weight = aa.get_edge_data(user, original_author)['weight']\n",
        "            aa.add_weighted_edges_from([(user, original_author, old_weight+w_contributor)])\n",
        "            update_in_contributors += 1\n",
        "        else:\n",
        "            aa.add_weighted_edges_from([(user, original_author, w_contributor)])\n",
        "            new_edge += 1"
      ],
      "id": "79eebfea"
    },
    {
      "cell_type": "code",
      "execution_count": null,
      "metadata": {
        "id": "b0118512"
      },
      "outputs": [],
      "source": [
        "# add edges from commenting behavior\n",
        "update_in_commenters = 0\n",
        "new_edge = 0\n",
        "commenter = 0\n",
        "for repo, issuers in issuers_map.items():\n",
        "    original_author = repo_authors_map[repo]\n",
        "    for user in issuers:\n",
        "        contributor += 1\n",
        "        if aa.has_edge(user, original_author):\n",
        "            old_weight = aa.get_edge_data(user, original_author)['weight']\n",
        "            aa.add_weighted_edges_from([(user, original_author, old_weight+w_commenter)])\n",
        "            update_in_commenters += 1\n",
        "        else:\n",
        "            aa.add_weighted_edges_from([(user, original_author, w_commenter)])\n",
        "            new_edge += 1"
      ],
      "id": "b0118512"
    },
    {
      "cell_type": "markdown",
      "metadata": {
        "id": "061a3a31"
      },
      "source": [
        "# compute popular/famous/influential authors"
      ],
      "id": "061a3a31"
    },
    {
      "cell_type": "code",
      "execution_count": null,
      "metadata": {
        "id": "a7826019"
      },
      "outputs": [],
      "source": [
        "from sklearn import preprocessing as prep\n",
        "\n",
        "def normalized_score(score_map):\n",
        "    authors = []\n",
        "    values = []\n",
        "    for key, val in score_map.items():\n",
        "        authors.append(key)\n",
        "        values.append(val)\n",
        "    values = prep.normalize([values])\n",
        "    #print(len(values))\n",
        "    new_map = {}\n",
        "    for i in range(len(authors)):\n",
        "        new_map[authors[i]] = values[0][i]\n",
        "    return new_map"
      ],
      "id": "a7826019"
    },
    {
      "cell_type": "code",
      "execution_count": null,
      "metadata": {
        "colab": {
          "base_uri": "https://localhost:8080/"
        },
        "id": "495df426",
        "outputId": "36617acb-f7fa-4a50-f284-434ea99f1d91"
      },
      "outputs": [
        {
          "output_type": "execute_result",
          "data": {
            "text/plain": [
              "({'danionescu0': -5.812051366185792e-17,\n",
              "  'marcuxyz': -5.681689253318479e-17,\n",
              "  'miguelgrinberg': -1.568498209399861e-17,\n",
              "  'COUR4G3': -1.4704727888565666e-17,\n",
              "  'msoedov': -1.1510741176997885e-17,\n",
              "  'raoumairwaheed': -7.965294821381012e-18,\n",
              "  'kb22': -6.422119760458297e-18,\n",
              "  'marktennyson': -6.3059511450959954e-18,\n",
              "  'diegoinacio': -5.99849804828458e-18,\n",
              "  'faizanbashir': -5.354476122181559e-18,\n",
              "  'su600': -5.0945668058948514e-18,\n",
              "  'dtiesling': -5.071891436549933e-18,\n",
              "  'cvitter': -4.911545015842929e-18,\n",
              "  'jhorneman': -4.120921826819461e-18,\n",
              "  'johnnncodes': -3.948696943311031e-18,\n",
              "  'tiangolo': -3.7570909596966276e-18,\n",
              "  'bobbui': -3.5101859765347245e-18,\n",
              "  'dqminh': -3.482094450678175e-18,\n",
              "  'macloo': -3.315940809274174e-18,\n",
              "  'Santhoshkumard11': -3.240968263370414e-18,\n",
              "  'AmyangXYZ': -2.7716828207539033e-18,\n",
              "  'moinudeen': -2.554330718668236e-18,\n",
              "  'mattupstate': -2.2881577507209504e-18,\n",
              "  'kvesteri': -1.703711743531651e-18,\n",
              "  'dineshpiyasamara': -1.647468354383287e-18,\n",
              "  'gaotongfei': -1.6242706804556962e-18,\n",
              "  'lalithpolepeddi': -1.615035529608907e-18,\n",
              "  'rememberlenny': -1.4338339507935686e-18,\n",
              "  'jdaroesti': -1.1876511551730318e-18,\n",
              "  'Neo-Hao': -1.1334193689937499e-18,\n",
              "  'sebsto': -1.0828390824881095e-18,\n",
              "  'gtancev': -1.038730044074975e-18,\n",
              "  'Faruqt': -1.0324525584357603e-18,\n",
              "  'jvuori': -9.417312507249916e-19,\n",
              "  'vmadhv': -9.374859682347187e-19,\n",
              "  'fatematzuhora': -9.210307937441452e-19,\n",
              "  'Shir0kamii': -8.674756774360585e-19,\n",
              "  'DhirajKelhe': -8.238958785057738e-19,\n",
              "  'allansifuna': -7.803591015735128e-19,\n",
              "  'codesagar': -7.650357784216819e-19,\n",
              "  'fogleman': -7.550203506274014e-19,\n",
              "  'fnava621': -6.557688047335956e-19,\n",
              "  'cogitovirus': -6.097800549397589e-19,\n",
              "  'ahmdrz': -5.86515274607277e-19,\n",
              "  'ritvikkhanna09': -5.827690190342134e-19,\n",
              "  'flomflam': -5.689131340451679e-19,\n",
              "  'beenje': -5.667253624994624e-19,\n",
              "  'Harivind': -5.541641496508683e-19,\n",
              "  'Paradoxis': -5.348698256944017e-19,\n",
              "  'DanielArturoAlejoAlvarez': -5.105742372245494e-19,\n",
              "  'asthasharma98': -4.5182472553190345e-19,\n",
              "  'LukaszMalucha': -4.445288412565087e-19,\n",
              "  'gbourniq': -4.396704127679503e-19,\n",
              "  'tylernchls': -4.384367172132566e-19,\n",
              "  'satriani04': -4.2490483860100375e-19,\n",
              "  'nikdanilov': -4.1591224391638273e-19,\n",
              "  'Januzellij': -4.1586168379835832e-19,\n",
              "  'wilfilho': -4.151190690839461e-19,\n",
              "  'SI364-Winter2018': -4.1093135920262406e-19,\n",
              "  'jarodl': -3.649578266763738e-19,\n",
              "  'MoTechStore': -3.0061217861317196e-19,\n",
              "  'yoni2k': -2.9389614856583817e-19,\n",
              "  'ryanwang520': -2.9129514039710455e-19,\n",
              "  'DuncanJF': -2.8638158276109913e-19,\n",
              "  'venugopalkadamba': -2.7893492224180466e-19,\n",
              "  'harshays': -2.6983334059981417e-19,\n",
              "  'yutinggong': -2.475007414417871e-19,\n",
              "  'yoshiya0503': -2.273872729099972e-19,\n",
              "  'alkhalifas': -2.2307861451054146e-19,\n",
              "  'angstwad': -2.1670254035700577e-19,\n",
              "  'Tyzer34': -2.0795612195819136e-19,\n",
              "  'playpauseandstop': -2.0754613494402997e-19,\n",
              "  'karthikeyan5': -1.9023281787171188e-19,\n",
              "  'nikhilkumar4443': -1.568987203741524e-19,\n",
              "  'dorajistyle': -1.5396951752410423e-19,\n",
              "  'hartleybrody': -1.5039393601878765e-19,\n",
              "  'incubated-geek-cc': -1.4166476414186843e-19,\n",
              "  'gayu-thri': -1.4121333271039146e-19,\n",
              "  'isheunesutembo': -1.0472153138452343e-19,\n",
              "  'shazforiot': -9.703958000478812e-20,\n",
              "  'Lincoln-LM': -8.572444524402912e-20,\n",
              "  'gabrielbessler': -7.846289770898561e-20,\n",
              "  'dorotawm': -6.381278780488424e-20,\n",
              "  'ynakayama': -3.073152791483622e-20,\n",
              "  'radekstepan': -2.9184427707501625e-20,\n",
              "  'nathanwright1242': -2.119469864206682e-20,\n",
              "  'SidneyJob': -1.617137184236289e-20,\n",
              "  'andrewrosss': -1.0073072904548326e-20,\n",
              "  'RamonWill': -7.686136261008953e-21,\n",
              "  'adamcrosby': -2.1553508264075065e-21,\n",
              "  'mbr': -1.136067455040189e-21,\n",
              "  'idris-rampurawala': -1.1273933484198227e-22,\n",
              "  'fengsp': -1.4849678766773475e-24,\n",
              "  'microsoft': -0.0,\n",
              "  'SI-364-F17': -0.0,\n",
              "  'level12': -0.0,\n",
              "  'dushan14': -0.0,\n",
              "  'mattfinnell': -0.0,\n",
              "  'ContinuumIO': -0.0,\n",
              "  'klzns': -0.0,\n",
              "  'testdrivenio': -0.0,\n",
              "  'gAmadorH': -0.0,\n",
              "  'agallant': -0.0,\n",
              "  'vipinc007': -0.0,\n",
              "  'weapp': -0.0,\n",
              "  'haxamxam': -0.0,\n",
              "  'toddbirchard': -0.0,\n",
              "  'itzvnl': 8.111022131970072e-21,\n",
              "  'kadnan': 1.3120725494782164e-20,\n",
              "  'jinykim68': 1.794968817444082e-20,\n",
              "  'gbroccolo': 1.8556315314531977e-20,\n",
              "  'C-Anirudh': 2.601012126701908e-20,\n",
              "  'adyouri': 3.097763725862082e-20,\n",
              "  'volkerp': 3.9713389817173005e-20,\n",
              "  'syqu22': 4.175838676205719e-20,\n",
              "  'Zeeshanahmad4': 4.948116894308071e-20,\n",
              "  'alfredodeza': 4.9594012996267874e-20,\n",
              "  'RajKKapadia': 5.534538210675485e-20,\n",
              "  'hasankhan': 6.551405531322474e-20,\n",
              "  'albertogg': 7.8181031698608e-20,\n",
              "  'mitkir': 8.849134926488473e-20,\n",
              "  'tsileo': 9.47921053393732e-20,\n",
              "  'amitvkulkarni': 1.0412054213678963e-19,\n",
              "  'InnoFang': 1.2964982271750555e-19,\n",
              "  'nirzaf': 1.3683862865169624e-19,\n",
              "  'munhitsu': 1.445248889905241e-19,\n",
              "  'dueka': 1.4518590385670452e-19,\n",
              "  'lacioffi': 1.4819324606102785e-19,\n",
              "  'corydolphin': 1.599097421860965e-19,\n",
              "  'ahnaf-zamil': 1.6027964133119811e-19,\n",
              "  'level09': 1.725215401385056e-19,\n",
              "  'mayurvkorde': 1.925857047302024e-19,\n",
              "  'aixiamomo': 1.9429394894215342e-19,\n",
              "  'EijiTomonari': 2.1773658595322906e-19,\n",
              "  'syaffers': 2.2028942343847275e-19,\n",
              "  'radoondas': 2.360946294602328e-19,\n",
              "  'nidhinp': 2.3830054525350624e-19,\n",
              "  'adriencaccia': 2.405696910434191e-19,\n",
              "  'lmeunier': 2.5990631374992517e-19,\n",
              "  'brijeshb42': 2.611229320210403e-19,\n",
              "  'marchibbins': 2.701786449522313e-19,\n",
              "  'hypebeast': 2.887882920630148e-19,\n",
              "  'nikos': 3.018724744363553e-19,\n",
              "  'griimnak': 3.075133240518657e-19,\n",
              "  'blueswen': 3.182629533055857e-19,\n",
              "  'ryanmcdermott': 3.195790329699533e-19,\n",
              "  'alphasecio': 3.3941830414663253e-19,\n",
              "  'mertcangokgoz': 3.579434292131992e-19,\n",
              "  'wgopar': 3.8986440731930263e-19,\n",
              "  'riZZZhik': 4.1591224391638273e-19,\n",
              "  'pri1311': 4.1591224391638273e-19,\n",
              "  'studio-salamander': 4.162176132402632e-19,\n",
              "  'Prev': 4.179362098879643e-19,\n",
              "  'Eyongkevin': 4.1877450079650937e-19,\n",
              "  'm-kortas': 4.639402995999181e-19,\n",
              "  'MattToegel': 4.642874980491484e-19,\n",
              "  'melvin0008': 5.002029575451496e-19,\n",
              "  'sumanentc': 5.090879715241212e-19,\n",
              "  'aws-troutman': 5.125439604773464e-19,\n",
              "  'macagua': 5.435817152419498e-19,\n",
              "  'syedsaadahmed': 5.5963658052007095e-19,\n",
              "  'matdoering': 5.731317032913798e-19,\n",
              "  'Ketouem': 5.998772068543811e-19,\n",
              "  'romeokienzler': 6.743666099754233e-19,\n",
              "  'wgkoro': 6.786066170805919e-19,\n",
              "  'MirelaI': 6.886247399613549e-19,\n",
              "  'dternyak': 7.002212644003792e-19,\n",
              "  'bogdan-alexandrescu': 7.104244877731285e-19,\n",
              "  'Yekai-Yu': 7.485810801158386e-19,\n",
              "  'dainnilsson': 8.45679930059993e-19,\n",
              "  'hugom1997': 9.593638436646443e-19,\n",
              "  'Nooraldin2001': 1.0596821017911782e-18,\n",
              "  'angudadevops': 1.0659824289447738e-18,\n",
              "  'leemengtw': 1.0709989846591164e-18,\n",
              "  'johnwheeler': 1.1479928249800776e-18,\n",
              "  'Snickdx': 1.1553268849145083e-18,\n",
              "  'sbimochan': 1.1850045411035657e-18,\n",
              "  'AndrewRPorter': 1.1931549016483232e-18,\n",
              "  'drivet': 1.3469260854111093e-18,\n",
              "  '1Hanif1': 1.3881108848199278e-18,\n",
              "  'jomariya23156': 1.3914342633685192e-18,\n",
              "  'twaldear': 1.4259987852471448e-18,\n",
              "  'duplxey': 1.4608590950827352e-18,\n",
              "  'MugeraH': 1.6636489756655309e-18,\n",
              "  'CharlyJazz': 1.6959993671315903e-18,\n",
              "  'mardix': 1.9696445666157183e-18,\n",
              "  'gokulapap': 2.159658579896425e-18,\n",
              "  'TrystanLea': 2.214582796400395e-18,\n",
              "  'kritikaparmar-programmer': 2.4544370108038086e-18,\n",
              "  'dreamingechoes': 2.7063050138657807e-18,\n",
              "  'olayinkaos': 2.77136104031501e-18,\n",
              "  'zobayer1': 3.260405164294975e-18,\n",
              "  'sh4nks': 8.12885110062072e-18,\n",
              "  'Depado': 8.800889355451649e-18,\n",
              "  'mjhea0': 9.68470620210286e-18,\n",
              "  'jod35': 1.2087123786828452e-17,\n",
              "  'jpf': 1.2095704714789586e-17,\n",
              "  'vitalk': 1.5403825153174123e-17,\n",
              "  'shepilov-vladislav': 1.5450947307046526e-17,\n",
              "  'adamshamsudeen': 1.8012007695390142e-17,\n",
              "  'ZoranPandovski': 3.7534660978362695e-17,\n",
              "  'maarten-dp': 1.2086304914441504e-16,\n",
              "  'stephen-mcneal': 3.497293861236335e-15,\n",
              "  'webmagicinformatica': 1.0},\n",
              " {'marcuxyz': -1.1700521348500636e-16,\n",
              "  'danionescu0': -1.0379788781662925e-16,\n",
              "  'diegoinacio': -1.0007625923176569e-16,\n",
              "  'miguelgrinberg': -8.72270759251977e-17,\n",
              "  'msoedov': -6.458932924968753e-17,\n",
              "  'COUR4G3': -6.174473342196758e-17,\n",
              "  'kb22': -5.357188722840929e-17,\n",
              "  'AmyangXYZ': -5.2085314752422345e-17,\n",
              "  'moinudeen': -4.2615311550898626e-17,\n",
              "  'mattupstate': -3.8174600771906426e-17,\n",
              "  'jhorneman': -3.6418844773353686e-17,\n",
              "  'rememberlenny': -3.570675952174929e-17,\n",
              "  'SI364-Winter2018': -3.443918742239291e-17,\n",
              "  'johnnncodes': -3.293914707861616e-17,\n",
              "  'bobbui': -3.102143733303622e-17,\n",
              "  'su600': -2.900349354601405e-17,\n",
              "  'dtiesling': -2.887440211321787e-17,\n",
              "  'raoumairwaheed': -2.853769462956618e-17,\n",
              "  'dineshpiyasamara': -2.748562536525983e-17,\n",
              "  'gaotongfei': -2.709860574620445e-17,\n",
              "  'lalithpolepeddi': -2.6944530618939543e-17,\n",
              "  'cvitter': -2.6557609871129673e-17,\n",
              "  'marktennyson': -2.647850918266006e-17,\n",
              "  'tiangolo': -2.0893875200834558e-17,\n",
              "  'jdaroesti': -1.9814240819165067e-17,\n",
              "  'Neo-Hao': -1.89094619480889e-17,\n",
              "  'Santhoshkumard11': -1.8450911665489358e-17,\n",
              "  'sebsto': -1.806560306481344e-17,\n",
              "  'gtancev': -1.7329707591119135e-17,\n",
              "  'Faruqt': -1.7224976827668543e-17,\n",
              "  'microsoft': -1.674082086133426e-17,\n",
              "  'jvuori': -1.5711423095513196e-17,\n",
              "  'fatematzuhora': -1.5366065927376145e-17,\n",
              "  'dqminh': -1.4621215383007556e-17,\n",
              "  'Shir0kamii': -1.4472576313860616e-17,\n",
              "  'DhirajKelhe': -1.3745510435050734e-17,\n",
              "  'codesagar': -1.2763514844319852e-17,\n",
              "  'fogleman': -1.25964219253609e-17,\n",
              "  'fnava621': -1.0940553513623645e-17,\n",
              "  'mattfinnell': -1.067169532744653e-17,\n",
              "  'testdrivenio': -1.0198287031395865e-17,\n",
              "  'cogitovirus': -1.0173297775759569e-17,\n",
              "  'ritvikkhanna09': -9.722657730594441e-18,\n",
              "  'flomflam': -9.491492341044001e-18,\n",
              "  'beenje': -9.45499253882926e-18,\n",
              "  'Harivind': -9.24542688036234e-18,\n",
              "  'Paradoxis': -8.923529006856955e-18,\n",
              "  'kvesteri': -8.650275099575257e-18,\n",
              "  'DanielArturoAlejoAlvarez': -8.518192272506834e-18,\n",
              "  'LukaszMalucha': -8.353562117571974e-18,\n",
              "  'gbourniq': -8.262262790270208e-18,\n",
              "  'tylernchls': -8.239079249645092e-18,\n",
              "  'asthasharma98': -7.538041689049655e-18,\n",
              "  'SI-364-F17': -7.338059985761143e-18,\n",
              "  'satriani04': -7.088922332620595e-18,\n",
              "  'nikdanilov': -6.938893903907228e-18,\n",
              "  'Januzellij': -6.9380503815058756e-18,\n",
              "  'wilfilho': -6.925660929667996e-18,\n",
              "  'allansifuna': -6.896461078858651e-18,\n",
              "  'jarodl': -6.85826788385132e-18,\n",
              "  'DuncanJF': -4.777862272339849e-18,\n",
              "  'venugopalkadamba': -4.653625517982151e-18,\n",
              "  'harshays': -4.501778799605139e-18,\n",
              "  'yutinggong': -4.129191701190233e-18,\n",
              "  'yoshiya0503': -3.793627585867565e-18,\n",
              "  'alkhalifas': -3.721743855731424e-18,\n",
              "  'angstwad': -3.615368285591382e-18,\n",
              "  'Tyzer34': -3.469446951953614e-18,\n",
              "  'playpauseandstop': -3.4626069119334953e-18,\n",
              "  'karthikeyan5': -3.1737592714834738e-18,\n",
              "  'MoTechStore': -2.656674581556534e-18,\n",
              "  'nikhilkumar4443': -2.6176280940503637e-18,\n",
              "  'yoni2k': -2.597321343114784e-18,\n",
              "  'ryanwang520': -2.5743348083703373e-18,\n",
              "  'hartleybrody': -2.5091051804552884e-18,\n",
              "  'syedsaadahmed': -2.4849467613888477e-18,\n",
              "  'incubated-geek-cc': -2.363471580077102e-18,\n",
              "  'gayu-thri': -2.355940099930205e-18,\n",
              "  'macloo': -1.7497865230747217e-18,\n",
              "  'isheunesutembo': -1.7471272037809715e-18,\n",
              "  'shazforiot': -1.6189649619170998e-18,\n",
              "  'Lincoln-LM': -1.4301883130884963e-18,\n",
              "  'dorajistyle': -1.3607130137836932e-18,\n",
              "  'gabrielbessler': -1.3090399009874665e-18,\n",
              "  'dorotawm': -1.0646240180889162e-18,\n",
              "  'ynakayama': -5.127110702441436e-19,\n",
              "  'nathanwright1242': -3.9828963891132276e-19,\n",
              "  'SidneyJob': -2.6979593684995835e-19,\n",
              "  'radekstepan': -2.579187830163196e-19,\n",
              "  'andrewrosss': -1.6805464420286632e-19,\n",
              "  'RamonWill': -1.282320605517873e-19,\n",
              "  'adamcrosby': -3.595890943077704e-20,\n",
              "  'mbr': -1.0040050754639134e-20,\n",
              "  'idris-rampurawala': -1.8808926515345906e-21,\n",
              "  'fengsp': -2.4774540056690628e-23,\n",
              "  'vmadhv': -0.0,\n",
              "  'gAmadorH': -0.0,\n",
              "  'agallant': -0.0,\n",
              "  'vipinc007': -0.0,\n",
              "  'weapp': -0.0,\n",
              "  'haxamxam': -0.0,\n",
              "  'toddbirchard': -0.0,\n",
              "  'itzvnl': 1.3532066643678538e-19,\n",
              "  'kadnan': 2.1890031727194826e-19,\n",
              "  'jinykim68': 2.994645713668951e-19,\n",
              "  'gbroccolo': 3.095852673211346e-19,\n",
              "  'C-Anirudh': 4.33941232891166e-19,\n",
              "  'adyouri': 5.168170484889795e-19,\n",
              "  'albertogg': 6.90928626483986e-19,\n",
              "  'syqu22': 6.966782526327676e-19,\n",
              "  'volkerp': 7.462918891817746e-19,\n",
              "  'Zeeshanahmad4': 8.255216973279928e-19,\n",
              "  'alfredodeza': 8.27404337053574e-19,\n",
              "  'RajKKapadia': 9.233576075898985e-19,\n",
              "  'hasankhan': 1.093007204482709e-18,\n",
              "  'InnoFang': 1.1457865416694587e-18,\n",
              "  'nirzaf': 1.2093179597417882e-18,\n",
              "  'munhitsu': 1.2772456550320925e-18,\n",
              "  'mitkir': 1.4763501025617375e-18,\n",
              "  'tsileo': 1.5814690995491507e-18,\n",
              "  'amitvkulkarni': 1.73710056790186e-18,\n",
              "  'dueka': 2.4222167006150633e-18,\n",
              "  'lacioffi': 2.4723898532302514e-18,\n",
              "  'hypebeast': 2.5521804156916445e-18,\n",
              "  'nikos': 2.6678125064873855e-18,\n",
              "  'corydolphin': 2.6678626355937743e-18,\n",
              "  'ahnaf-zamil': 2.6740338675316397e-18,\n",
              "  'griimnak': 2.7176637861695477e-18,\n",
              "  'faizanbashir': 2.8204269603570116e-18,\n",
              "  'level09': 2.8782722333138042e-18,\n",
              "  'mayurvkorde': 3.213013783746031e-18,\n",
              "  'aixiamomo': 3.241513366343255e-18,\n",
              "  'EijiTomonari': 3.632619839949177e-18,\n",
              "  'syaffers': 3.6752102390613145e-18,\n",
              "  'Prev': 3.693531348742171e-18,\n",
              "  'radoondas': 3.938897229090003e-18,\n",
              "  'nidhinp': 3.9756997418180365e-18,\n",
              "  'adriencaccia': 4.013557155536948e-18,\n",
              "  'ahmdrz': 4.13495969624876e-18,\n",
              "  'lmeunier': 4.336160722474266e-18,\n",
              "  'brijeshb42': 4.356458237703272e-18,\n",
              "  'marchibbins': 4.507539703019326e-18,\n",
              "  'blueswen': 5.3097568028692776e-18,\n",
              "  'ryanmcdermott': 5.33171368750952e-18,\n",
              "  'alphasecio': 5.662703216765837e-18,\n",
              "  'mertcangokgoz': 5.971768119936521e-18,\n",
              "  'wgkoro': 5.997218605018558e-18,\n",
              "  'MirelaI': 6.085754247636288e-18,\n",
              "  'bogdan-alexandrescu': 6.278410567027814e-18,\n",
              "  'wgopar': 6.504323445313592e-18,\n",
              "  'riZZZhik': 6.938893903907228e-18,\n",
              "  'pri1311': 6.938893903907228e-18,\n",
              "  'studio-salamander': 6.943988549162107e-18,\n",
              "  'Eyongkevin': 6.986646517847875e-18,\n",
              "  'm-kortas': 7.740172509367089e-18,\n",
              "  'MattToegel': 7.745965013045567e-18,\n",
              "  'melvin0008': 8.345162479814382e-18,\n",
              "  'mjhea0': 8.374770463751533e-18,\n",
              "  'sumanentc': 8.493396080139002e-18,\n",
              "  'aws-troutman': 8.551054254502164e-18,\n",
              "  'macagua': 9.06887427657964e-18,\n",
              "  'matdoering': 9.561873064030449e-18,\n",
              "  'Ketouem': 1.0008083086324358e-17,\n",
              "  'mardix': 1.0166877036726589e-17,\n",
              "  'sbimochan': 1.024077998484563e-17,\n",
              "  'ContinuumIO': 1.0516660573531534e-17,\n",
              "  'romeokienzler': 1.125083098033972e-17,\n",
              "  'dternyak': 1.1682178473954315e-17,\n",
              "  'level12': 1.1884686209824829e-17,\n",
              "  '1Hanif1': 1.2267496683254687e-17,\n",
              "  'gokulapap': 1.2476880769990789e-17,\n",
              "  'twaldear': 1.260233282488372e-17,\n",
              "  'Yekai-Yu': 1.4067295465264082e-17,\n",
              "  'dainnilsson': 1.4108945810524704e-17,\n",
              "  'hugom1997': 1.6005597391770827e-17,\n",
              "  'Nooraldin2001': 1.7679262353422558e-17,\n",
              "  'angudadevops': 1.7784374194485585e-17,\n",
              "  'leemengtw': 1.786806816688968e-17,\n",
              "  'Snickdx': 1.9274957147847587e-17,\n",
              "  'AndrewRPorter': 1.9906062864379317e-17,\n",
              "  'CharlyJazz': 2.1126261940223237e-17,\n",
              "  'johnwheeler': 2.1573019529826963e-17,\n",
              "  'kritikaparmar-programmer': 2.1691205089281647e-17,\n",
              "  'drivet': 2.2471512536071864e-17,\n",
              "  'jomariya23156': 2.3214067075449116e-17,\n",
              "  'duplxey': 2.4372319924717023e-17,\n",
              "  'klzns': 2.5561733054125117e-17,\n",
              "  'MugeraH': 2.7755575615628914e-17,\n",
              "  'zobayer1': 2.881398739571418e-17,\n",
              "  'Depado': 3.275157573020354e-17,\n",
              "  'TrystanLea': 3.694710913278605e-17,\n",
              "  'dushan14': 4.202575525257623e-17,\n",
              "  'dreamingechoes': 4.515078273724064e-17,\n",
              "  'olayinkaos': 4.6236148392962334e-17,\n",
              "  'shepilov-vladislav': 5.13912007654107e-17,\n",
              "  'sh4nks': 6.639088110616906e-17,\n",
              "  'jpf': 6.88611430561604e-17,\n",
              "  'jod35': 8.705650536578189e-17,\n",
              "  'adamshamsudeen': 1.0254280076169162e-16,\n",
              "  'ZoranPandovski': 1.0335754740116993e-16,\n",
              "  'vitalk': 1.2849526554657237e-16,\n",
              "  'maarten-dp': 2.1585028118051057e-16,\n",
              "  'stephen-mcneal': 3.740664200083899e-15,\n",
              "  'webmagicinformatica': 1.0})"
            ]
          },
          "metadata": {},
          "execution_count": 76
        }
      ],
      "source": [
        "hubs, authorities = nx.hits(aa, max_iter = 150, normalized = True)\n",
        "sorted_auth = {k: v for k, v in sorted(authorities.items(), key=lambda item: item[1])}\n",
        "sorted_hubs = {k: v for k, v in sorted(hubs.items(), key=lambda item: item[1])}\n",
        "auths = normalized_score(sorted_auth)\n",
        "hubs = normalized_score(sorted_hubs)\n",
        "\n",
        "hubs, auths"
      ],
      "id": "495df426"
    },
    {
      "cell_type": "code",
      "execution_count": null,
      "metadata": {
        "id": "01e33751"
      },
      "outputs": [],
      "source": [],
      "id": "01e33751"
    },
    {
      "cell_type": "code",
      "execution_count": null,
      "metadata": {
        "id": "40061574"
      },
      "outputs": [],
      "source": [],
      "id": "40061574"
    },
    {
      "cell_type": "markdown",
      "metadata": {
        "id": "0d2ccb05"
      },
      "source": [
        "# compute RepoPop"
      ],
      "id": "0d2ccb05"
    },
    {
      "cell_type": "code",
      "execution_count": null,
      "metadata": {
        "id": "8dd8f8e9"
      },
      "outputs": [],
      "source": [
        "# compute repository popularity using stars-forks-watch\n",
        "watchers_counts = []\n",
        "stargazers_counts = []\n",
        "forkers_counts = []\n",
        "for i in range(len(repos_list)):\n",
        "    watchers_counts.append(len(watchers_list2[i]))\n",
        "    stargazers_counts.append(len(stargazers_list2[i]))\n",
        "    forkers_counts.append(len(forkers_list2[i]))"
      ],
      "id": "8dd8f8e9"
    },
    {
      "cell_type": "code",
      "execution_count": null,
      "metadata": {
        "id": "f3e45f1e"
      },
      "outputs": [],
      "source": [
        "import numpy as np\n",
        "from sklearn import preprocessing as prep\n",
        "\n",
        "watchers_counts = np.array(watchers_counts)\n",
        "watchers_counts = prep.normalize([watchers_counts])\n",
        "watchers_counts = watchers_counts.tolist()\n",
        "\n",
        "\n",
        "forkers_counts = np.array(forkers_counts)\n",
        "forkers_counts = prep.normalize([forkers_counts])\n",
        "forkers_counts = forkers_counts.tolist()\n",
        "\n",
        "\n",
        "stargazers_counts = np.array(stargazers_counts)\n",
        "stargazers_counts = prep.normalize([stargazers_counts])\n",
        "stargazers_counts = stargazers_counts.tolist()"
      ],
      "id": "f3e45f1e"
    },
    {
      "cell_type": "code",
      "execution_count": null,
      "metadata": {
        "id": "4b8b9d43"
      },
      "outputs": [],
      "source": [
        "stargazers_counts = stargazers_counts[0]\n",
        "watchers_counts = watchers_counts[0]\n",
        "forkers_counts = forkers_counts[0]"
      ],
      "id": "4b8b9d43"
    },
    {
      "cell_type": "code",
      "execution_count": null,
      "metadata": {
        "id": "f566a194"
      },
      "outputs": [],
      "source": [
        "repo_popularity_map = {}\n",
        "\n",
        "for i in range(len(repos_list)):\n",
        "    score = watchers_counts[i]/3 + forkers_counts[i]/3 + stargazers_counts[i]/3\n",
        "    repo_popularity_map[repos_list[i]] = score\n",
        "#repo_popularity_map"
      ],
      "id": "f566a194"
    },
    {
      "cell_type": "markdown",
      "metadata": {
        "id": "19db0f1a"
      },
      "source": [
        "# Compute plausibility score"
      ],
      "id": "19db0f1a"
    },
    {
      "cell_type": "code",
      "execution_count": null,
      "metadata": {
        "id": "de373688"
      },
      "outputs": [],
      "source": [
        "authors_repo_map = {}\n",
        "for repo,author in repo_authors_map.items():\n",
        "    if author in authors_repo_map:\n",
        "        authors_repo_map[author].append(repo)\n",
        "    else:\n",
        "        authors_repo_map[author] = [repo]\n",
        "#authors_repo_map"
      ],
      "id": "de373688"
    },
    {
      "cell_type": "code",
      "execution_count": null,
      "metadata": {
        "colab": {
          "base_uri": "https://localhost:8080/"
        },
        "id": "81acc335",
        "outputId": "44b8d112-f02a-4188-bb31-551bea445ca4"
      },
      "outputs": [
        {
          "output_type": "execute_result",
          "data": {
            "text/plain": [
              "(0.245, 0.0125, 0.6175, 0.31)"
            ]
          },
          "metadata": {},
          "execution_count": 82
        }
      ],
      "source": [
        "total_stargazers = 0\n",
        "total_forkers = 0\n",
        "total_watchers = 0\n",
        "total_contributors = 0\n",
        "total_issuers = 0\n",
        "for repo in repos_list:\n",
        "    if repo in stargazers_map:\n",
        "        total_stargazers += len(stargazers_map[repo])\n",
        "    if repo in forkers_map:\n",
        "        total_forkers += len(forkers_map[repo])\n",
        "    if repo in watchers_map:\n",
        "        total_watchers += len(watchers_map[repo])\n",
        "    if repo in contributors_map:\n",
        "        total_contributors += len(contributors_map[repo])\n",
        "    if repo in issuers_map:\n",
        "        total_issuers += len(issuers_map[repo])\n",
        "\n",
        "total_stargazers /= len(repos_list)\n",
        "total_forkers /= len(repos_list)\n",
        "total_watchers /= len(repos_list)\n",
        "total_issuers += total_contributors\n",
        "total_issuers /= len(repos_list)\n",
        "total_stargazers, total_forkers, total_watchers, total_issuers"
      ],
      "id": "81acc335"
    },
    {
      "cell_type": "code",
      "execution_count": null,
      "metadata": {
        "colab": {
          "base_uri": "https://localhost:8080/"
        },
        "id": "f96dd5fc",
        "outputId": "b6a9c8d1-8e14-4dd9-8e61-ebeb634ae44a"
      },
      "outputs": [
        {
          "output_type": "execute_result",
          "data": {
            "text/plain": [
              "(1.2653061224489797, 24.799999999999997, 0.5020242914979757, 1)"
            ]
          },
          "metadata": {},
          "execution_count": 83
        }
      ],
      "source": [
        "wc = 1\n",
        "ws = total_issuers/total_stargazers\n",
        "wf = total_issuers/total_forkers\n",
        "ww = total_issuers/total_watchers\n",
        "ws, wf, ww, wc"
      ],
      "id": "f96dd5fc"
    },
    {
      "cell_type": "code",
      "execution_count": null,
      "metadata": {
        "colab": {
          "base_uri": "https://localhost:8080/"
        },
        "id": "d5d51111",
        "outputId": "2bfda7c0-7f94-475b-d1cd-c846e4545c31"
      },
      "outputs": [
        {
          "output_type": "stream",
          "name": "stdout",
          "text": [
            "0\n"
          ]
        },
        {
          "output_type": "execute_result",
          "data": {
            "text/plain": [
              "0.0"
            ]
          },
          "metadata": {},
          "execution_count": 84
        }
      ],
      "source": [
        "total_follower = 0\n",
        "for key, val in author_follower_map.items():\n",
        "    total_follower += len(val)\n",
        "print(total_follower)\n",
        "total_follower/len(author_follower_map)"
      ],
      "id": "d5d51111"
    },
    {
      "cell_type": "code",
      "execution_count": null,
      "metadata": {
        "id": "ca339d02"
      },
      "outputs": [],
      "source": [
        "def get_other_repo_contributions(stargazers_map):\n",
        "    number_of_authors = len(set(authors_list))\n",
        "    count = 0\n",
        "    temp_map = {}\n",
        "    for repo, stars in stargazers_map.items():\n",
        "        repo_author = repo[:repo.find('/')]\n",
        "        if repo_author in temp_map:\n",
        "            temp_map[repo_author].extend(stars)\n",
        "        else:\n",
        "            temp_map[repo_author] = stars\n",
        "\n",
        "    for key, val in temp_map.items():\n",
        "        list_count = len(val)\n",
        "        set_count = len(set(val))\n",
        "        count += list_count/set_count\n",
        "    other_repo_contributors = count/number_of_authors\n",
        "\n",
        "    return other_repo_contributors"
      ],
      "id": "ca339d02"
    },
    {
      "cell_type": "code",
      "execution_count": null,
      "metadata": {
        "colab": {
          "base_uri": "https://localhost:8080/"
        },
        "id": "8e7aba2f",
        "outputId": "b0f3718e-5782-422c-8369-4e0251462d55"
      },
      "outputs": [
        {
          "output_type": "execute_result",
          "data": {
            "text/plain": [
              "0.9045138888888888"
            ]
          },
          "metadata": {},
          "execution_count": 86
        }
      ],
      "source": [
        "other_repo_contributors = get_other_repo_contributions(stargazers_map) + get_other_repo_contributions(watchers_map) + get_other_repo_contributions(forkers_map)\n",
        "other_repo_contributors\n",
        "\n"
      ],
      "id": "8e7aba2f"
    },
    {
      "cell_type": "code",
      "execution_count": null,
      "metadata": {
        "colab": {
          "base_uri": "https://localhost:8080/"
        },
        "id": "40227723",
        "outputId": "02b8804b-085e-483e-89a3-6974b9de99e0"
      },
      "outputs": [
        {
          "output_type": "execute_result",
          "data": {
            "text/plain": [
              "0.5085604606525912"
            ]
          },
          "metadata": {},
          "execution_count": 87
        }
      ],
      "source": [
        "w_fol = 1\n",
        "w_orc = 0.46/other_repo_contributors\n",
        "w_orc"
      ],
      "id": "40227723"
    },
    {
      "cell_type": "code",
      "execution_count": null,
      "metadata": {
        "id": "84b005ff"
      },
      "outputs": [],
      "source": [
        "def compute_plausibility(repo1, repo2):\n",
        "    author1 = repo_authors_map[repo1]\n",
        "    author2 = repo_authors_map[repo2]\n",
        "    date1 = repo_created_date_map[repo1]\n",
        "    date2 = repo_created_date_map[repo2]\n",
        "    time = date1 - date2\n",
        "\n",
        "    if time.days < 0:\n",
        "        return 0\n",
        "\n",
        "    star_score = 0\n",
        "    if repo1 in stargazers_map:\n",
        "        if author2 in stargazers_map[repo1]:\n",
        "            star_score = 1\n",
        "\n",
        "    fork_score = 0\n",
        "    if repo1 in forkers_map:\n",
        "        if author2 in forkers_map[repo1]:\n",
        "            fork_score = 1\n",
        "\n",
        "    follow_score = 0\n",
        "    if author1 in author_follower_map:\n",
        "        if author2 in author_follower_map[author1]:\n",
        "            follow_score = 1\n",
        "\n",
        "    other_repo_star_score = 0\n",
        "    if author1 in authors_repo_map:\n",
        "        if len(authors_repo_map[author1]) > 1:\n",
        "            for repo in authors_repo_map[author1]:\n",
        "                if repo in stargazers_map:\n",
        "                    if author2 in stargazers_map[repo]:\n",
        "                        other_repo_star_score += 1\n",
        "\n",
        "    other_repo_fork_score = 0\n",
        "    if author1 in authors_repo_map:\n",
        "        if len(authors_repo_map[author1]) > 1:\n",
        "            for repo in authors_repo_map[author1]:\n",
        "                if repo in forkers_map:\n",
        "                    if author2 in forkers_map[repo]:\n",
        "                        other_repo_fork_score += 1\n",
        "\n",
        "    watch_score = 0\n",
        "    if repo1 in watchers_map:\n",
        "        if author2 in watchers_map[repo1]:\n",
        "            watch_score = 1\n",
        "\n",
        "    contribution_score = 0\n",
        "    if repo1 in contributors_map:\n",
        "        if author2 in contributors_map[repo1]:\n",
        "            contribution_score = 1\n",
        "\n",
        "    comment_score = 0\n",
        "    if repo1 in issuers_map:\n",
        "        if author2 in issuers_map[repo1]:\n",
        "            comment_score = 1\n",
        "\n",
        "    famous_score = 0\n",
        "    if author1 in hubs and author2 in hubs:\n",
        "        if hubs[author1] > hubs[author2]:\n",
        "            famous_score = 1\n",
        "    ra_score = (star_score * 0.62) + (fork_score*0.19) + (watch_score*0.34) + ((contribution_score+comment_score))\n",
        "    aa_score = follow_score + 0.61 * (other_repo_fork_score + other_repo_star_score)\n",
        "    popularity = (famous_score/2) + repo_popularity_map[repo1]/2\n",
        "    plausibility = 0.65 * ra_score + 0.25 * aa_score + 0.1 * popularity\n",
        "\n",
        "    return plausibility"
      ],
      "id": "84b005ff"
    },
    {
      "cell_type": "code",
      "execution_count": null,
      "metadata": {
        "id": "49e82287"
      },
      "outputs": [],
      "source": [
        "# Given repository A, find which repos it has influenced\n",
        "repo_influenced_repos = {}\n",
        "influenced_me_repos = {} # Given repository A, find the repos it has influenced repo A\n",
        "for repo1 in repos_list:\n",
        "    for repo2 in repos_list:\n",
        "        if repo_authors_map[repo1] != repo_authors_map[repo2]:\n",
        "            plausibility = compute_plausibility(repo1, repo2)\n",
        "            if plausibility > 0.2:\n",
        "                if repo1 in repo_influenced_repos:\n",
        "                    repo_influenced_repos[repo1].append([repo2,plausibility])\n",
        "                else:\n",
        "                    repo_influenced_repos[repo1] = [[repo2,plausibility]]\n",
        "\n",
        "                if repo2 in influenced_me_repos:\n",
        "                    influenced_me_repos[repo2].append([repo1, plausibility])\n",
        "                else:\n",
        "                    influenced_me_repos[repo2] = [repo1, plausibility]"
      ],
      "id": "49e82287"
    },
    {
      "cell_type": "code",
      "execution_count": null,
      "metadata": {
        "colab": {
          "base_uri": "https://localhost:8080/"
        },
        "id": "f2c8b547",
        "outputId": "da0e3e29-2d47-4e5f-be98-41ccab8b1624"
      },
      "outputs": [
        {
          "output_type": "execute_result",
          "data": {
            "text/plain": [
              "['level12/flask-webtest',\n",
              " 0.40458910431540934,\n",
              " ['johnwheeler/flask-live-starter', 0.40617820863081866],\n",
              " ['dternyak/Flask-Postgres-Docker', 0.405641094987239],\n",
              " ['miguelgrinberg/Flask-Runner', 0.558141094987239],\n",
              " ['mardix/propel-legacy', 0.405641094987239],\n",
              " ['mattfinnell/flask-webpack-cookiecutter', 0.40458910431540934],\n",
              " ['level09/enferno', 0.405641094987239],\n",
              " ['Depado/flask-skeleton', 0.405641094987239],\n",
              " ['level12/flask-webtest', 0.40458910431540934],\n",
              " ['johnwheeler/flask-live-starter', 0.40617820863081866],\n",
              " ['dternyak/Flask-Postgres-Docker', 0.405641094987239],\n",
              " ['miguelgrinberg/Flask-Runner', 0.558141094987239],\n",
              " ['mardix/propel-legacy', 0.405641094987239],\n",
              " ['mattfinnell/flask-webpack-cookiecutter', 0.40458910431540934],\n",
              " ['level09/enferno', 0.405641094987239],\n",
              " ['Depado/flask-skeleton', 0.405641094987239],\n",
              " ['tsileo/flask-yeoman', 0.405641094987239],\n",
              " ['vitalk/flask-styleguide', 0.6097301993026483],\n",
              " ['testdrivenio/flask-celery-project', 0.2220519906718297],\n",
              " ['bobbui/prometheus-flask', 0.40723019930264837],\n",
              " ['vitalk/ansible-flaskapp', 0.20355199067182966],\n",
              " ['TrystanLea/emonview', 0.405641094987239],\n",
              " ['hartleybrody/web_starter', 0.405641094987239],\n",
              " ['wilfilho/flask-facebook-example', 0.405641094987239],\n",
              " ['shepilov-vladislav/Flask-Restless-Restangular-with-JWT-auth',\n",
              "  0.45723019930264835]]"
            ]
          },
          "metadata": {},
          "execution_count": 90
        }
      ],
      "source": [
        "repo_influenced_repos['level12/flask-webtest']\n",
        "repo_authors_map\n",
        "influenced_me_repos['mjhea0/flask-intro']"
      ],
      "id": "f2c8b547"
    },
    {
      "cell_type": "markdown",
      "metadata": {
        "id": "82a83ea7"
      },
      "source": [
        "# PIG"
      ],
      "id": "82a83ea7"
    },
    {
      "cell_type": "code",
      "execution_count": null,
      "metadata": {
        "id": "e5174875-9b8b-49df-8e3b-9b0cd07df489"
      },
      "outputs": [],
      "source": [
        "high_degree_repos=[]"
      ],
      "id": "e5174875-9b8b-49df-8e3b-9b0cd07df489"
    },
    {
      "cell_type": "code",
      "execution_count": null,
      "metadata": {
        "id": "80b28a6f"
      },
      "outputs": [],
      "source": [
        "def create_pig(threshold):\n",
        "    pig = nx.DiGraph()\n",
        "\n",
        "    for repo1 in repos_list:\n",
        "        for repo2 in repos_list:\n",
        "            if repo_authors_map[repo1] != repo_authors_map[repo2]:\n",
        "                plausibility = compute_plausibility(repo1, repo2)\n",
        "                if plausibility >= 0.06:\n",
        "                    high_degree_repos.append((repo1,repo2))\n",
        "                if plausibility >= threshold:\n",
        "                    if pig.has_edge(repo1, repo2):\n",
        "                        continue\n",
        "                    else:\n",
        "                        pig.add_weighted_edges_from([(repo1, repo2, plausibility)])\n",
        "    return pig"
      ],
      "id": "80b28a6f"
    },
    {
      "cell_type": "code",
      "execution_count": null,
      "metadata": {
        "id": "9ff7e4ab-97a9-4402-b0f7-cf1145568bf6"
      },
      "outputs": [],
      "source": [
        "pig = create_pig(0.06)"
      ],
      "id": "9ff7e4ab-97a9-4402-b0f7-cf1145568bf6"
    },
    {
      "cell_type": "code",
      "execution_count": null,
      "metadata": {
        "colab": {
          "base_uri": "https://localhost:8080/"
        },
        "id": "a1651181-8d26-47e9-adcf-18ebb3796fe9",
        "outputId": "d7f53ad2-bdd4-45ab-a684-34a74f8650a5"
      },
      "outputs": [
        {
          "output_type": "stream",
          "name": "stdout",
          "text": [
            "40\n"
          ]
        },
        {
          "output_type": "execute_result",
          "data": {
            "text/plain": [
              "[('level12/flask-webtest', 'mjhea0/flask-intro'),\n",
              " ('johnwheeler/flask-live-starter', 'mjhea0/flask-intro'),\n",
              " ('kb22/ML-React-App-Template', 'macloo/flask-forms'),\n",
              " ('kb22/Understanding-Flask-and-Flask-RESTPlus', 'macloo/flask-forms'),\n",
              " ('dternyak/Flask-Postgres-Docker', 'mjhea0/flask-intro'),\n",
              " ('miguelgrinberg/Flask-Runner', 'mjhea0/flask-intro'),\n",
              " ('mardix/propel-legacy', 'mjhea0/flask-intro'),\n",
              " ('mattfinnell/flask-webpack-cookiecutter', 'mjhea0/flask-intro'),\n",
              " ('level09/enferno', 'mjhea0/flask-intro'),\n",
              " ('Depado/flask-skeleton', 'mjhea0/flask-intro'),\n",
              " ('level12/flask-webtest', 'mjhea0/flask-intro'),\n",
              " ('johnwheeler/flask-live-starter', 'mjhea0/flask-intro'),\n",
              " ('kb22/ML-React-App-Template', 'macloo/flask-forms'),\n",
              " ('kb22/Understanding-Flask-and-Flask-RESTPlus', 'macloo/flask-forms'),\n",
              " ('dternyak/Flask-Postgres-Docker', 'mjhea0/flask-intro'),\n",
              " ('miguelgrinberg/Flask-Runner', 'mjhea0/flask-intro'),\n",
              " ('mardix/propel-legacy', 'mjhea0/flask-intro'),\n",
              " ('mattfinnell/flask-webpack-cookiecutter', 'mjhea0/flask-intro'),\n",
              " ('level09/enferno', 'mjhea0/flask-intro'),\n",
              " ('Depado/flask-skeleton', 'mjhea0/flask-intro'),\n",
              " ('marcuxyz/flask-vuejs', 'CharlyJazz/Flask-MVC-Template'),\n",
              " ('marcuxyz/flask-vuejs', 'CharlyJazz/Flask-MVC-Template'),\n",
              " ('tsileo/flask-yeoman', 'mjhea0/flask-intro'),\n",
              " ('vitalk/flask-styleguide', 'Depado/flask-skeleton'),\n",
              " ('vitalk/flask-styleguide', 'Depado/flask-skeleton'),\n",
              " ('vitalk/flask-styleguide', 'mjhea0/flask-intro'),\n",
              " ('testdrivenio/flask-celery-project', 'mjhea0/flask-intro'),\n",
              " ('bobbui/prometheus-flask', 'mjhea0/flask-intro'),\n",
              " ('vitalk/ansible-flaskapp', 'Depado/flask-skeleton'),\n",
              " ('vitalk/ansible-flaskapp', 'Depado/flask-skeleton'),\n",
              " ('vitalk/ansible-flaskapp', 'mjhea0/flask-intro'),\n",
              " ('TrystanLea/emonview', 'mjhea0/flask-intro'),\n",
              " ('miguelgrinberg/flask-phone-input', 'mjhea0/flask-intro'),\n",
              " ('hartleybrody/web_starter', 'mjhea0/flask-intro'),\n",
              " ('wilfilho/flask-facebook-example', 'mjhea0/flask-intro'),\n",
              " ('duplxey/flask-movies', 'mjhea0/flask-intro'),\n",
              " ('miguelgrinberg/webcast-assistant', 'mjhea0/flask-intro'),\n",
              " ('shepilov-vladislav/Flask-Restless-Restangular-with-JWT-auth',\n",
              "  'mjhea0/flask-intro'),\n",
              " ('marcuxyz/mvc-flask', 'CharlyJazz/Flask-MVC-Template'),\n",
              " ('marcuxyz/mvc-flask', 'CharlyJazz/Flask-MVC-Template')]"
            ]
          },
          "metadata": {},
          "execution_count": 94
        }
      ],
      "source": [
        "print(len(high_degree_repos))\n",
        "high_degree_repos"
      ],
      "id": "a1651181-8d26-47e9-adcf-18ebb3796fe9"
    },
    {
      "cell_type": "code",
      "execution_count": null,
      "metadata": {
        "colab": {
          "base_uri": "https://localhost:8080/"
        },
        "id": "b425f4b7",
        "outputId": "9c77442e-0408-4f55-8bb4-3c61511fa38e"
      },
      "outputs": [
        {
          "output_type": "stream",
          "name": "stdout",
          "text": [
            "[299]\n",
            "0.0  : avg degree -  297.9130434782609  no of nodes -  299  no of edges -  89076\n",
            "[299, 213]\n",
            "0.01  : avg degree -  56.57276995305164  no of nodes -  213  no of edges -  12050\n",
            "[299, 213, 213]\n",
            "0.02  : avg degree -  56.57276995305164  no of nodes -  213  no of edges -  12050\n",
            "[299, 213, 213, 213]\n",
            "0.03  : avg degree -  56.57276995305164  no of nodes -  213  no of edges -  12050\n",
            "[299, 213, 213, 213, 213]\n",
            "0.04  : avg degree -  56.57276995305164  no of nodes -  213  no of edges -  12050\n",
            "[299, 213, 213, 213, 213, 213]\n",
            "0.05  : avg degree -  56.57276995305164  no of nodes -  213  no of edges -  12050\n",
            "[299, 213, 213, 213, 213, 213, 26]\n",
            "0.06  : avg degree -  0.9615384615384616  no of nodes -  26  no of edges -  25\n",
            "[299, 213, 213, 213, 213, 213, 26, 26]\n",
            "0.07  : avg degree -  0.9615384615384616  no of nodes -  26  no of edges -  25\n",
            "[299, 213, 213, 213, 213, 213, 26, 26, 26]\n",
            "0.08  : avg degree -  0.9615384615384616  no of nodes -  26  no of edges -  25\n",
            "[299, 213, 213, 213, 213, 213, 26, 26, 26, 26]\n",
            "0.09  : avg degree -  0.9615384615384616  no of nodes -  26  no of edges -  25\n",
            "[299, 213, 213, 213, 213, 213, 26, 26, 26, 26, 26]\n",
            "0.1  : avg degree -  0.9615384615384616  no of nodes -  26  no of edges -  25\n",
            "[299, 213, 213, 213, 213, 213, 26, 26, 26, 26, 26, 24]\n",
            "0.2  : avg degree -  0.9166666666666666  no of nodes -  24  no of edges -  22\n",
            "[299, 213, 213, 213, 213, 213, 26, 26, 26, 26, 26, 24, 18]\n",
            "0.3  : avg degree -  0.9444444444444444  no of nodes -  18  no of edges -  17\n",
            "[299, 213, 213, 213, 213, 213, 26, 26, 26, 26, 26, 24, 18, 18]\n",
            "0.4  : avg degree -  0.9444444444444444  no of nodes -  18  no of edges -  17\n",
            "[299, 213, 213, 213, 213, 213, 26, 26, 26, 26, 26, 24, 18, 18, 6]\n",
            "0.5  : avg degree -  0.6666666666666666  no of nodes -  6  no of edges -  4\n"
          ]
        }
      ],
      "source": [
        "threshold = 0.8\n",
        "#t_list = [0.0, 0.01, 0.02, 0.03, 0.04, 0.05, 0.06, 0.07, 0.08, 0.09, 0.1, 0.2, 0.3, 0.4, 0.5, 0.6, 0.7, 0.8, 0.9, 1.0]\n",
        "t_list = [0.0, 0.01, 0.02, 0.03, 0.04, 0.05, 0.06,0.07, 0.08, 0.09, 0.1, 0.2, 0.3, 0.4, 0.5]\n",
        "deg = []\n",
        "nodes = []\n",
        "edges = []\n",
        "repos = []\n",
        "repo_count = []\n",
        "\n",
        "for t in t_list:\n",
        "    pig = create_pig(t)\n",
        "    repo_tup = {t:[]}\n",
        "    no_nodes = len(list(pig.nodes))\n",
        "    no_edges = len(list(pig.edges))\n",
        "    avg_deg = no_edges/no_nodes\n",
        "    for index,value in enumerate(pig.nodes):\n",
        "      if(index < 2):\n",
        "        repo_tup[t].append(value);\n",
        "    repos.append(repo_tup)\n",
        "    repo_count.append(no_nodes)\n",
        "    print(repo_count)\n",
        "    deg.append(avg_deg)\n",
        "    nodes.append(no_nodes)\n",
        "    edges.append(no_edges)\n",
        "    print(t, \" : avg degree - \", avg_deg, \" no of nodes - \", no_nodes, \" no of edges - \", no_edges)"
      ],
      "id": "b425f4b7"
    },
    {
      "cell_type": "code",
      "execution_count": null,
      "metadata": {
        "colab": {
          "base_uri": "https://localhost:8080/"
        },
        "id": "a079de24",
        "outputId": "c93ddc11-a4c1-4c9a-8e5a-ed6e39f0aa95"
      },
      "outputs": [
        {
          "output_type": "stream",
          "name": "stdout",
          "text": [
            "0.0  : avg degree:  297.9130434782609 , no of nodes:  299\n",
            "0.0  : avg degree:  297.9130434782609 , no of nodes:  299\n",
            "0.02  : avg degree:  53.610328638497656 , no of nodes:  213\n",
            "0.03  : avg degree:  53.610328638497656 , no of nodes:  213\n",
            "0.04  : avg degree:  53.610328638497656 , no of nodes:  213\n",
            "0.05  : avg degree:  53.610328638497656 , no of nodes:  213\n",
            "0.06  : avg degree:  0.9629629629629629 , no of nodes:  27\n",
            "0.07  : avg degree:  0.9629629629629629 , no of nodes:  27\n",
            "0.08  : avg degree:  0.9629629629629629 , no of nodes:  27\n",
            "0.09  : avg degree:  0.9629629629629629 , no of nodes:  27\n",
            "0.1  : avg degree:  0.9629629629629629 , no of nodes:  27\n",
            "0.2  : avg degree:  0.9565217391304348 , no of nodes:  23\n",
            "0.3  : avg degree:  0.9444444444444444 , no of nodes:  18\n",
            "0.4  : avg degree:  0.9444444444444444 , no of nodes:  18\n",
            "0.5  : avg degree:  0.6666666666666666 , no of nodes:  6\n",
            "0.6  : avg degree:  0.6666666666666666 , no of nodes:  3\n"
          ]
        }
      ],
      "source": [
        "for i in range(len(t_list)):\n",
        "    deg[i] = edges[i]/nodes[i]\n",
        "    print(t_list[i],\" : avg degree: \", deg[i], \", no of nodes: \", nodes[i])"
      ],
      "id": "a079de24"
    },
    {
      "cell_type": "code",
      "execution_count": null,
      "metadata": {
        "colab": {
          "base_uri": "https://localhost:8080/"
        },
        "id": "f8aef9f1",
        "outputId": "077c041b-8e5e-4f6e-d660-3a707a8afba6"
      },
      "outputs": [
        {
          "output_type": "execute_result",
          "data": {
            "text/plain": [
              "400"
            ]
          },
          "metadata": {},
          "execution_count": 97
        }
      ],
      "source": [
        "len(repos_list)"
      ],
      "id": "f8aef9f1"
    },
    {
      "cell_type": "code",
      "execution_count": null,
      "metadata": {
        "colab": {
          "base_uri": "https://localhost:8080/",
          "height": 476
        },
        "id": "61e35eec",
        "outputId": "14b92742-1ecd-4af0-eed3-bee80aaed661"
      },
      "outputs": [
        {
          "output_type": "display_data",
          "data": {
            "text/plain": [
              "<Figure size 800x480 with 0 Axes>"
            ]
          },
          "metadata": {}
        },
        {
          "output_type": "display_data",
          "data": {
            "text/plain": [
              "<Figure size 640x480 with 1 Axes>"
            ],
            "image/png": "[encoded data removed]"
          },
          "metadata": {}
        }
      ],
      "source": [
        "from matplotlib.pyplot import figure\n",
        "figure(figsize=(10, 6), dpi=80)\n",
        "\n",
        "nodes[0] = 2089\n",
        "fig = plt.figure()\n",
        "plt.plot(t_list, deg, color='green', label = 'avg degree')\n",
        "plt.plot(t_list, nodes, color='red', label = 'no of nodes')\n",
        "plt.plot(t_list, edges, color='blue', label = 'no of edges')\n",
        "plt.legend(loc = 'upper right', fontsize=18)\n",
        "plt.yscale(\"log\")\n",
        "plt.xlabel(\"Plausible Influence Threshold, PIT\", fontsize=18)\n",
        "plt.ylabel(\"Log\", fontsize=16)\n",
        "plt.show()\n",
        "fig.savefig('pis_threshold.png')"
      ],
      "id": "61e35eec"
    },
    {
      "cell_type": "code",
      "execution_count": null,
      "metadata": {
        "colab": {
          "base_uri": "https://localhost:8080/",
          "height": 553
        },
        "id": "3629c48f",
        "outputId": "6a7ec9de-6487-4c04-edf1-38d1f6a37e84"
      },
      "outputs": [
        {
          "output_type": "stream",
          "name": "stdout",
          "text": [
            "[('Ketouem/flask-boto3', 48), ('level12/flask-webtest', 11), ('johnnncodes/building-a-blog-using-flask-and-angularjs', 2), ('fengsp/flask-profile', 17), ('ynakayama/flask-hello', 16), ('hasankhan/pyMVC', 10), ('codesagar/Azure-Blobs', 11), ('aws-troutman/magic8ball-flask', 35), ('johnnncodes/note-taking-app', 3), ('msoedov/flask-graphql-example', 1), ('miguelgrinberg/Flask-Runner', 1), ('mbr/flask-appconfig', 11), ('mertcangokgoz/TimeTable', 39), ('angstwad/elemental', 9), ('kvesteri/flask-storage', 2), ('level09/enferno', 27), ('mattupstate/ansible-tutorial', 2), ('yoshiya0503/Hermetica', 18), ('nidhinp/Paintapp-Flask-PostgreSQL', 22), ('albertogg/flask-bootstrap-skel', 10), ('dorotawm/quizr-flask', 15), ('tsileo/flask-yeoman', 18), ('marchibbins/teela', 25), ('fogleman/HelloFlask', 2), ('lmeunier/flaskup', 4), ('ContinuumIO/flask-ssl-authentication', 27), ('sebsto/signup-flask-nginx-docker', 8), ('jarodl/flask-github', 1), ('jvuori/flask-uwsgi-nginx-haproxy-docker', 10), ('fnava621/chatapp', 7), ('dqminh/flask-lettuce', 0), ('klzns/flask-webkit', 17), ('gaotongfei/flask-blog', 6), ('adamcrosby/elastic-flask-baseline', 8), ('melvin0008/FlaskBoilerplate', 33), ('ryanmcdermott/docker-flask', 30), ('hartleybrody/web_starter', 14), ('munhitsu/flask-fbapi', 2), ('playpauseandstop/Flask-LazyViews', 2), ('corydolphin/flask-headers', 20), ('wilfilho/flask-facebook-example', 12), ('Januzellij/flask-ember-todo', 7), ('brijeshb42/flask-web-starter-kit', 35), ('harshays/prioritize', 11), ('lalithpolepeddi/sightings', 4), ('dorajistyle/flask-canjs-i18n-boilerplate', 9), ('radekstepan/FlaskBudget', 1), ('jhorneman/flask-skeleton', 0), ('weapp/flask-coffee2js', 9), ('mjhea0/flask-intro', 15), ('toddbirchard/flasklogin-tutorial', 62), ('danionescu0/docker-flask-mongodb-example', 0), ('ritvikkhanna09/Income-Prediction-Webapp', 32), ('Paradoxis/Flask-Unsign', 35), ('gbourniq/bank-statement-analysis', 36), ('moinudeen/digit-recognizer-flask-cnn', 8), ('kb22/Understanding-Flask-and-Flask-RESTPlus', 6), ('satriani04/flask-pos', 21), ('tiangolo/meinheld-gunicorn-docker', 10), ('vmadhv/project-python-flask-webapp', 19), ('cvitter/mattermost-bitbucket-bridge', 5), ('beenje/flask_traefik_letsencrypt', 21), ('DhirajKelhe/flaskapp', 25), ('Shir0kamii/Flask-CSV', 17), ('karthikeyan5/Flaskentory', 45), ('bobbui/prometheus-flask', 8), ('tiangolo/full-stack-flask-couchbase', 9), ('AmyangXYZ/BirdSong_Recognition', 9), ('macloo/flask-forms', 8), ('COUR4G3/flask-gssapi', 1), ('faizanbashir/flask-gunicorn-nginx-docker', 5), ('rememberlenny/Flask-Person-Detector', 16), ('LukaszMalucha/Image-Classification', 32), ('gabrielbessler/FlaskApp', 36), ('SI364-Winter2018/Embedding-Youtube-Spotify', 30), ('tiangolo/full-stack-flask-couchdb', 9), ('jdaroesti/flask-http2-push', 13), ('miguelgrinberg/webcast-assistant', 2), ('ryanwang520/create-flask-skeleton', 30), ('tylernchls/flask_web_app', 26), ('ahmdrz/facedetector', 25), ('Tyzer34/Flask-Ask_ExampleApplications', 24), ('nikdanilov/Flask-React-ToDo-app', 24), ('kritikaparmar-programmer/HealthCheck', 154), ('dushan14/books-store', 51), ('hypebeast/ansible-flask-stack', 44), ('johnwheeler/flask-live-starter', 56), ('CharlyJazz/Flask-MVC-Template', 66), ('twaldear/flask-secure-headers', 41), ('gtancev/Flask-Angular-Web-Application', 27), ('MattToegel/IS601', 115), ('microsoft/project-python-flask-container', 43), ('alkhalifas/Application-Programming-Interface-Development-using-Flask-Python', 61), ('aixiamomo/flask-todo-app', 41), ('amitvkulkarni/Data-Apps', 104), ('kb22/ML-React-App-Template', 6), ('matdoering/minimal-flask-example', 129), ('dternyak/Flask-Postgres-Docker', 46), ('su600/DataS', 10), ('SI-364-F17/Sample-Login-App', 44), ('InnoFang/what-digit-you-write', 67), ('yutinggong/FlaskNLPWebApplication', 49), ('gayu-thri/Online-Sports-Turf-Playground-Booking-System', 64), ('macagua/example.flask.crud-app', 84), ('nathanwright1242/flask_livereload_example', 60), ('jinykim68/flask-celery-rabbitmq-example', 77), ('mardix/propel-legacy', 39), ('mattfinnell/flask-webpack-cookiecutter', 44), ('diegoinacio/object-detection-flask-opencv', 8), ('leemengtw/cat-recognition-app', 104), ('syedsaadahmed/Python_flask_CRUD', 82), ('MirelaI/flask_heroku_example', 79), ('isheunesutembo/Predicting-House-Prices-Using-Random-Forest-Flask-Web-Application', 59), ('m-kortas/Sound-based-bird-species-detection', 109), ('marcuxyz/flask-vuejs', 2), ('itzvnl/Flask-Webapplication-with-mysql', 60), ('nikos/python3-alpine-flask-docker', 51), ('Snickdx/flaskSample', 109), ('radoondas/flask-app-search', 90), ('idris-rampurawala/flask-boilerplate', 79), ('wgopar/ml-flask-web-app', 98), ('griimnak/Trinity-py', 53), ('nirzaf/FlaskWebApplication', 79), ('romeokienzler/flask-file-upload', 128), ('dainnilsson/flask-u2f-tutorial', 43), ('nikhilkumar4443/simple-web-application', 56), ('adriencaccia/vscode-flask-debug', 107), ('gbroccolo/flask-redis-docker', 59), ('yoni2k/flask_heroku', 56), ('hugom1997/Flask-Cnn-Recognition-App', 132), ('syaffers/souqnet-app', 59), ('volkerp/flaskrqdemo', 75), ('bogdan-alexandrescu/Flask-Webhook', 31), ('studio-salamander/custom-blog', 50), ('DanielArturoAlejoAlvarez/Rest-Api-Python-3-7-7-Flask-SQLAlchemy-JWT-Authentication', 47), ('andrewrosss/flask-firebase-admin', 77), ('TrystanLea/emonview', 36), ('miguelgrinberg/flask-phone-input', 2), ('mitkir/keras-flask-image-classifier', 84), ('Eyongkevin/hello_template', 84), ('AndrewRPorter/flask-react-nginx', 135), ('Neo-Hao/mean-review-collector', 26), ('angudadevops/Python-Developement', 133), ('Yekai-Yu/Flask-web-application', 76), ('C-Anirudh/aws-flask-application', 79), ('Zeeshanahmad4/Stock-Prices-Prediction-ML-Flask-Dashboard', 85), ('Prev/askhy', 68), ('wgkoro/flask_mongodb', 4), ('drivet/pylint-server', 43), ('RamonWill/Data-App', 69), ('fatematzuhora/Flask-SQLAlchemy-RESTful-CRUD', 32), ('allansifuna/Flask-Mpesa', 33), ('Harivind/Kannada-OCR', 43), ('agallant/twitoff', 82), ('vipinc007/ParquetViewer', 49), ('sbimochan/word-finder', 98), ('mayurvkorde/Flask-Application-On-IIS', 117), ('venugopalkadamba/AgriAI_WebApp', 60), ('testdrivenio/flask-celery-project', 85), ('syqu22/flask-pastebin', 104), ('asthasharma98/Heart-Disease-Prediction-Deployment', 48), ('incubated-geek-cc/your-custom-app-name', 70), ('gAmadorH/flask-hello-world', 84), ('haxamxam/Flask-Python-E-Commerce-Website', 83), ('webmagicinformatica/Dockerizing-Python-Flask-Redis-Application', 145), ('sh4nks/flask-plugins', 29), ('jpf/TwilioSheet', 10), ('Depado/flask-skeleton', 32), ('olayinkaos/flask-realtime-todo', 77), ('vitalk/flask-styleguide', 36), ('vitalk/ansible-flaskapp', 45), ('adamshamsudeen/opencv-flask', 74), ('maarten-dp/flask-restless-client', 104), ('dreamingechoes/flask-internet-of-things-app', 56), ('ZoranPandovski/flaskr-intro', 89), ('shepilov-vladislav/Flask-Restless-Restangular-with-JWT-auth', 55), ('adyouri/large-flask-app-template', 114), ('Faruqt/React-Flask', 36), ('kadnan/PythonFlaskDecentralizedEcommerce', 101), ('Santhoshkumard11/Flask-Calculator-Beginner-Docker', 22), ('shazforiot/python-flask-redis-docker-Project', 82), ('marktennyson/flask-mailing', 9), ('dineshpiyasamara/LaptopPricePredictor', 29), ('flomflam/StartingTemplate', 48), ('Lincoln-LM/PLA-Live-Map', 81), ('MoTechStore/Python-Flask-MySQL-CRUD-App', 61), ('marcuxyz/mvc-flask', 2), ('RajKKapadia/YouTube-Render-Python', 119), ('alfredodeza/azure-flask-container-app', 116), ('lacioffi/checkpoint-cicd', 132), ('raoumairwaheed/yolov8-Object-detection-web-application-flask', 8), ('SidneyJob/FVWA', 90), ('dueka/translateWithWhisper', 127), ('cogitovirus/langchain-sql-agent-bootstrap', 47), ('alphasecio/flask', 147), ('ahnaf-zamil/k8s-flask-tutorial', 126), ('EijiTomonari/ticket-scanner-v2', 132), ('blueswen/flask-monitoring', 138), ('DuncanJF/BuyBestBrands', 70), ('dtiesling/flask-muck', 15), ('sumanentc/sample-flask-application-with-openapi', 139), ('pri1311/crunch', 131), ('gokulapap/subdomainer-flask', 162), ('jomariya23156/face-recognition-with-liveness-web-login', 157), ('stephen-mcneal/Medium-Flask', 190), ('jod35/Flask-React-Recipes', 174), ('zobayer1/flask-restful-boilerplate', 163), ('gokulapap/certificate-generator', 168), ('MugeraH/flask_code', 161), ('1Hanif1/Password-Manager', 170), ('riZZZhik/belinsky', 141), ('duplxey/flask-movies', 171), ('Nooraldin2001/Final-Project-Emotion-Detector', 176)]\n"
          ]
        },
        {
          "output_type": "display_data",
          "data": {
            "text/plain": [
              "<Figure size 640x480 with 1 Axes>"
            ],
            "image/png": "[encoded data removed]"
          },
          "metadata": {}
        }
      ],
      "source": [
        "pig = create_pig(0.05)\n",
        "d = pig.degree()\n",
        "print(pig.out_degree())\n",
        "\n",
        "nodelist = []\n",
        "node_size = []\n",
        "for key, val in pig.degree():\n",
        "    nodelist.append(key)\n",
        "    node_size.append(val * 5)\n",
        "\n",
        "nx.draw(pig, nodelist=nodelist, node_size=node_size)"
      ],
      "id": "3629c48f"
    },
    {
      "cell_type": "code",
      "execution_count": null,
      "metadata": {
        "id": "4628ffff",
        "colab": {
          "base_uri": "https://localhost:8080/",
          "height": 516
        },
        "outputId": "c92b11f1-520e-49f7-db22-83427637d3e2"
      },
      "outputs": [
        {
          "output_type": "display_data",
          "data": {
            "text/plain": [
              "<Figure size 640x480 with 1 Axes>"
            ],
            "image/png": "[encoded data removed]"
          },
          "metadata": {}
        }
      ],
      "source": [
        "pig = create_pig(0.05)\n",
        "d = pig.degree()\n",
        "\n",
        "nodelist = []\n",
        "node_size = []\n",
        "for key, val in pig.degree():\n",
        "    nodelist.append(key)\n",
        "    node_size.append(val * 1)\n",
        "weights = nx.get_edge_attributes(pig, 'weight').values()\n",
        "\n",
        "nx.draw(pig, nodelist=nodelist, node_size=node_size, width=list(weights))"
      ],
      "id": "4628ffff"
    },
    {
      "cell_type": "code",
      "execution_count": null,
      "metadata": {
        "id": "39a52867",
        "colab": {
          "base_uri": "https://localhost:8080/",
          "height": 1000
        },
        "outputId": "7866332a-c8da-41bc-d810-27bf6278fb58"
      },
      "outputs": [
        {
          "output_type": "display_data",
          "data": {
            "text/plain": [
              "<Figure size 800x600 with 1 Axes>"
            ],
            "image/png": "[encoded data removed]"
          },
          "metadata": {}
        },
        {
          "output_type": "execute_result",
          "data": {
            "text/plain": [
              "([2.450495552247823,\n",
              "  0.9204801474695025,\n",
              "  0.10210398134365935,\n",
              "  0.8678838414211043,\n",
              "  0.8168318507492747,\n",
              "  0.5105199067182968,\n",
              "  0.5615718973901265,\n",
              "  1.7868196735140378,\n",
              "  0.15315597201548903,\n",
              "  0.05158910431540932,\n",
              "  0.558141094987239,\n",
              "  0.579052044859629,\n",
              "  1.9910276362013564,\n",
              "  0.45946791604646714,\n",
              "  0.10528218997447798,\n",
              "  1.7743095646554516,\n",
              "  0.10210398134365935,\n",
              "  0.918935832092934,\n",
              "  1.1231437947802525,\n",
              "  0.52641094987239,\n",
              "  0.765779860077445,\n",
              "  1.3005397097703015,\n",
              "  1.2762997667957414,\n",
              "  0.10528218997447798,\n",
              "  0.2042079626873187,\n",
              "  1.3929058165160515,\n",
              "  0.40841592537463745,\n",
              "  0.05158910431540932,\n",
              "  0.5105199067182968,\n",
              "  0.35736393470280775,\n",
              "  0,\n",
              "  0.8770147733619583,\n",
              "  0.30631194403097806,\n",
              "  0.40841592537463745,\n",
              "  1.6847156921703785,\n",
              "  1.5315597201548896,\n",
              "  1.089975329821346,\n",
              "  0.10528218997447798,\n",
              "  0.10528218997447798,\n",
              "  1.0210398134365932,\n",
              "  0.984693139846868,\n",
              "  0.35736393470280775,\n",
              "  1.7868196735140378,\n",
              "  0.5615718973901265,\n",
              "  0.21056437994895597,\n",
              "  0.473769854885151,\n",
              "  0.05264109498723899,\n",
              "  0,\n",
              "  0.45946791604646714,\n",
              "  0.765779860077445,\n",
              "  3.099999999999997,\n",
              "  0,\n",
              "  1.633663701498549,\n",
              "  1.7868196735140378,\n",
              "  1.8572077553547353,\n",
              "  0.40841592537463745,\n",
              "  0.4836238880619561,\n",
              "  1.0720918041084229,\n",
              "  0.5105199067182968,\n",
              "  0.9500000000000003,\n",
              "  0.25525995335914836,\n",
              "  1.0720918041084229,\n",
              "  1.2762997667957414,\n",
              "  0.8678838414211043,\n",
              "  2.297339580232334,\n",
              "  0.7868415944211865,\n",
              "  0.45946791604646714,\n",
              "  0.4643019388386838,\n",
              "  0.40841592537463745,\n",
              "  0.05264109498723899,\n",
              "  0.25525995335914836,\n",
              "  0.8000000000000002,\n",
              "  1.650851338093098,\n",
              "  1.8378716641858674,\n",
              "  1.5000000000000007,\n",
              "  0.45946791604646714,\n",
              "  0.684334234834107,\n",
              "  0.20460398134365934,\n",
              "  1.579232849617169,\n",
              "  1.3413167122006422,\n",
              "  1.3160273746809745,\n",
              "  1.2252477761239118,\n",
              "  1.2252477761239118,\n",
              "  8.106728628034794,\n",
              "  2.6310443200858775,\n",
              "  2.316208179438514,\n",
              "  3.3309796833258476,\n",
              "  3.2999999999999963,\n",
              "  2.158284894476797,\n",
              "  1.3784037481394007,\n",
              "  5.870978927260425,\n",
              "  2.4705030767749703,\n",
              "  3.1141714309816084,\n",
              "  2.0931316175450156,\n",
              "  5.309407029870294,\n",
              "  0.4773119440309781,\n",
              "  6.585706796666046,\n",
              "  2.7744903694129914,\n",
              "  0.52641094987239,\n",
              "  2.5279566366999697,\n",
              "  3.5269533641450086,\n",
              "  2.5015475429196528,\n",
              "  3.2673274029970973,\n",
              "  4.288367216433692,\n",
              "  3.0953462589245633,\n",
              "  3.9310032817308826,\n",
              "  2.4060027045023187,\n",
              "  2.6229205898780124,\n",
              "  0.40841592537463745,\n",
              "  5.309407029870294,\n",
              "  4.099999999999993,\n",
              "  4.158646503991876,\n",
              "  3.012067449637949,\n",
              "  5.564666983229444,\n",
              "  0.20460398134365934,\n",
              "  3.063119440309779,\n",
              "  2.684695844349186,\n",
              "  5.564666983229444,\n",
              "  4.594679160464673,\n",
              "  4.033107263074542,\n",
              "  5.0030950858393135,\n",
              "  2.789978034323664,\n",
              "  4.158646503991876,\n",
              "  6.534654805994216,\n",
              "  2.195235598888675,\n",
              "  2.8589114776224602,\n",
              "  5.462563001885784,\n",
              "  3.012067449637949,\n",
              "  2.9479013192853807,\n",
              "  6.738862768681536,\n",
              "  3.012067449637949,\n",
              "  3.869182823655706,\n",
              "  1.631873944604408,\n",
              "  2.5525995335914824,\n",
              "  2.3994435615759935,\n",
              "  3.9310032817308826,\n",
              "  2.248079419540602,\n",
              "  0.20460398134365934,\n",
              "  4.288367216433692,\n",
              "  4.288367216433692,\n",
              "  6.892018740697027,\n",
              "  1.327351757467571,\n",
              "  6.789914759353366,\n",
              "  3.9207719279711157,\n",
              "  4.033107263074542,\n",
              "  4.339419207105522,\n",
              "  3.5795944591322475,\n",
              "  0.21056437994895597,\n",
              "  2.195235598888675,\n",
              "  3.5225873563562455,\n",
              "  1.633663701498549,\n",
              "  1.7371561345788857,\n",
              "  2.195235598888675,\n",
              "  4.186263235090032,\n",
              "  2.5015475429196528,\n",
              "  5.055732222910125,\n",
              "  5.973082908604085,\n",
              "  3.063119440309779,\n",
              "  4.5104192071055245,\n",
              "  5.309407029870294,\n",
              "  2.450495552247823,\n",
              "  3.573639347028075,\n",
              "  4.288367216433692,\n",
              "  4.237315225761862,\n",
              "  7.249999999999982,\n",
              "  1.48050772948306,\n",
              "  0.52641094987239,\n",
              "  2.0375150395916464,\n",
              "  3.9310032817308826,\n",
              "  3.0632871748953363,\n",
              "  2.6023395802323344,\n",
              "  3.895441029055681,\n",
              "  5.309407029870294,\n",
              "  2.8589114776224602,\n",
              "  4.685057453864265,\n",
              "  3.385660961645654,\n",
              "  5.819926936588595,\n",
              "  1.8378716641858674,\n",
              "  5.156251057854804,\n",
              "  1.1581040897192578,\n",
              "  4.186263235090032,\n",
              "  0.473769854885151,\n",
              "  1.48050772948306,\n",
              "  2.450495552247823,\n",
              "  4.135211244418202,\n",
              "  3.211106794221575,\n",
              "  0.6139603986052966,\n",
              "  6.075186889947745,\n",
              "  5.922030917932255,\n",
              "  6.738862768681536,\n",
              "  0.40841592537463745,\n",
              "  4.594679160464673,\n",
              "  6.483602815322386,\n",
              "  2.3994435615759935,\n",
              "  7.504642628758988,\n",
              "  6.432550824650556,\n",
              "  6.738862768681536,\n",
              "  7.045174712712517,\n",
              "  3.573639347028075,\n",
              "  0.7896164248085851,\n",
              "  7.096226703384347,\n",
              "  6.687810778009706,\n",
              "  8.527857387932706,\n",
              "  8.015162535477288,\n",
              "  9.69987822764768,\n",
              "  9.159550527779572,\n",
              "  8.580498482919944,\n",
              "  8.576734432867418,\n",
              "  8.219370498164608,\n",
              "  8.948986147830617,\n",
              "  7.198330684728007,\n",
              "  10.077949152057736,\n",
              "  8.985150358242059,\n",
              "  2.450495552247823,\n",
              "  0.9204801474695025,\n",
              "  0.10210398134365935,\n",
              "  0.8678838414211043,\n",
              "  0.8168318507492747,\n",
              "  0.5105199067182968,\n",
              "  0.5615718973901265,\n",
              "  1.7868196735140378,\n",
              "  0.15315597201548903,\n",
              "  0.05158910431540932,\n",
              "  0.558141094987239,\n",
              "  0.579052044859629,\n",
              "  1.9910276362013564,\n",
              "  0.45946791604646714,\n",
              "  0.10528218997447798,\n",
              "  1.7743095646554516,\n",
              "  0.10210398134365935,\n",
              "  0.918935832092934,\n",
              "  1.1231437947802525,\n",
              "  0.52641094987239,\n",
              "  0.765779860077445,\n",
              "  1.3005397097703015,\n",
              "  1.2762997667957414,\n",
              "  0.10528218997447798,\n",
              "  0.2042079626873187,\n",
              "  1.3929058165160515,\n",
              "  0.40841592537463745,\n",
              "  0.05158910431540932,\n",
              "  0.5105199067182968,\n",
              "  0.35736393470280775,\n",
              "  0,\n",
              "  0.8770147733619583,\n",
              "  0.30631194403097806,\n",
              "  0.40841592537463745,\n",
              "  1.6847156921703785,\n",
              "  1.5315597201548896,\n",
              "  1.089975329821346,\n",
              "  0.10528218997447798,\n",
              "  0.10528218997447798,\n",
              "  1.0210398134365932,\n",
              "  0.984693139846868,\n",
              "  0.35736393470280775,\n",
              "  1.7868196735140378,\n",
              "  0.5615718973901265,\n",
              "  0.21056437994895597,\n",
              "  0.473769854885151,\n",
              "  0.05264109498723899,\n",
              "  0,\n",
              "  0.45946791604646714,\n",
              "  0.765779860077445,\n",
              "  3.099999999999997,\n",
              "  0,\n",
              "  1.633663701498549,\n",
              "  1.7868196735140378,\n",
              "  1.8572077553547353,\n",
              "  0.40841592537463745,\n",
              "  0.4836238880619561,\n",
              "  1.0720918041084229,\n",
              "  0.5105199067182968,\n",
              "  0.9500000000000003,\n",
              "  0.25525995335914836,\n",
              "  1.0720918041084229,\n",
              "  1.2762997667957414,\n",
              "  0.8678838414211043,\n",
              "  2.297339580232334,\n",
              "  0.7868415944211865,\n",
              "  0.45946791604646714,\n",
              "  0.4643019388386838,\n",
              "  0.40841592537463745,\n",
              "  0.05264109498723899,\n",
              "  0.25525995335914836,\n",
              "  0.8000000000000002,\n",
              "  1.650851338093098,\n",
              "  1.8378716641858674,\n",
              "  1.5000000000000007,\n",
              "  0.45946791604646714,\n",
              "  0.684334234834107,\n",
              "  0.20460398134365934,\n",
              "  1.579232849617169,\n",
              "  1.3413167122006422,\n",
              "  1.3160273746809745,\n",
              "  1.2252477761239118,\n",
              "  1.2252477761239118,\n",
              "  8.106728628034794,\n",
              "  2.6310443200858775,\n",
              "  2.316208179438514,\n",
              "  3.3309796833258476,\n",
              "  3.2999999999999963,\n",
              "  2.158284894476797,\n",
              "  1.3784037481394007,\n",
              "  5.870978927260425,\n",
              "  2.4705030767749703,\n",
              "  3.1141714309816084,\n",
              "  2.0931316175450156,\n",
              "  5.309407029870294,\n",
              "  0.4773119440309781,\n",
              "  6.585706796666046,\n",
              "  2.7744903694129914,\n",
              "  0.52641094987239,\n",
              "  2.5279566366999697,\n",
              "  3.5269533641450086,\n",
              "  2.5015475429196528,\n",
              "  3.2673274029970973,\n",
              "  4.288367216433692,\n",
              "  3.0953462589245633,\n",
              "  3.9310032817308826,\n",
              "  2.4060027045023187,\n",
              "  2.6229205898780124,\n",
              "  0.40841592537463745,\n",
              "  5.309407029870294,\n",
              "  4.099999999999993,\n",
              "  4.158646503991876,\n",
              "  3.012067449637949,\n",
              "  5.564666983229444,\n",
              "  0.20460398134365934,\n",
              "  3.063119440309779,\n",
              "  2.684695844349186,\n",
              "  5.564666983229444,\n",
              "  4.594679160464673,\n",
              "  4.033107263074542,\n",
              "  5.0030950858393135,\n",
              "  2.789978034323664,\n",
              "  4.158646503991876,\n",
              "  6.534654805994216,\n",
              "  2.195235598888675,\n",
              "  2.8589114776224602,\n",
              "  5.462563001885784,\n",
              "  3.012067449637949,\n",
              "  2.9479013192853807,\n",
              "  6.738862768681536,\n",
              "  3.012067449637949,\n",
              "  3.869182823655706,\n",
              "  1.631873944604408,\n",
              "  2.5525995335914824,\n",
              "  2.3994435615759935,\n",
              "  3.9310032817308826,\n",
              "  2.248079419540602,\n",
              "  0.20460398134365934,\n",
              "  4.288367216433692,\n",
              "  4.288367216433692,\n",
              "  6.892018740697027,\n",
              "  1.327351757467571,\n",
              "  6.789914759353366,\n",
              "  3.9207719279711157,\n",
              "  4.033107263074542,\n",
              "  4.339419207105522,\n",
              "  3.5795944591322475,\n",
              "  0.21056437994895597,\n",
              "  2.195235598888675,\n",
              "  3.5225873563562455,\n",
              "  1.633663701498549,\n",
              "  1.7371561345788857,\n",
              "  2.195235598888675,\n",
              "  4.186263235090032,\n",
              "  2.5015475429196528,\n",
              "  5.055732222910125,\n",
              "  5.973082908604085,\n",
              "  3.063119440309779,\n",
              "  4.5104192071055245,\n",
              "  5.309407029870294,\n",
              "  2.450495552247823,\n",
              "  3.573639347028075,\n",
              "  4.288367216433692,\n",
              "  4.237315225761862,\n",
              "  7.249999999999982,\n",
              "  1.48050772948306,\n",
              "  0.52641094987239,\n",
              "  2.0375150395916464,\n",
              "  3.9310032817308826,\n",
              "  3.0632871748953363,\n",
              "  2.6023395802323344,\n",
              "  3.895441029055681,\n",
              "  5.309407029870294,\n",
              "  2.8589114776224602,\n",
              "  4.685057453864265,\n",
              "  3.385660961645654,\n",
              "  5.819926936588595,\n",
              "  1.8378716641858674,\n",
              "  5.156251057854804,\n",
              "  1.1581040897192578,\n",
              "  4.186263235090032,\n",
              "  0.473769854885151,\n",
              "  1.48050772948306,\n",
              "  2.450495552247823,\n",
              "  4.135211244418202,\n",
              "  3.211106794221575,\n",
              "  0.6139603986052966,\n",
              "  6.075186889947745,\n",
              "  5.922030917932255,\n",
              "  6.738862768681536,\n",
              "  0.40841592537463745,\n",
              "  4.594679160464673,\n",
              "  6.483602815322386,\n",
              "  2.3994435615759935,\n",
              "  7.504642628758988,\n",
              "  6.432550824650556,\n",
              "  6.738862768681536,\n",
              "  7.045174712712517,\n",
              "  3.573639347028075,\n",
              "  0.7896164248085851,\n",
              "  7.096226703384347,\n",
              "  6.687810778009706,\n",
              "  8.527857387932706,\n",
              "  8.015162535477288,\n",
              "  9.69987822764768,\n",
              "  9.159550527779572,\n",
              "  8.580498482919944,\n",
              "  8.576734432867418,\n",
              "  8.219370498164608,\n",
              "  8.948986147830617,\n",
              "  7.198330684728007,\n",
              "  10.077949152057736,\n",
              "  8.985150358242059],\n",
              " [48,\n",
              "  11,\n",
              "  2,\n",
              "  17,\n",
              "  16,\n",
              "  10,\n",
              "  11,\n",
              "  35,\n",
              "  3,\n",
              "  1,\n",
              "  1,\n",
              "  11,\n",
              "  39,\n",
              "  9,\n",
              "  2,\n",
              "  27,\n",
              "  2,\n",
              "  18,\n",
              "  22,\n",
              "  10,\n",
              "  15,\n",
              "  18,\n",
              "  25,\n",
              "  2,\n",
              "  4,\n",
              "  27,\n",
              "  8,\n",
              "  1,\n",
              "  10,\n",
              "  7,\n",
              "  0,\n",
              "  17,\n",
              "  6,\n",
              "  8,\n",
              "  33,\n",
              "  30,\n",
              "  14,\n",
              "  2,\n",
              "  2,\n",
              "  20,\n",
              "  12,\n",
              "  7,\n",
              "  35,\n",
              "  11,\n",
              "  4,\n",
              "  9,\n",
              "  1,\n",
              "  0,\n",
              "  9,\n",
              "  15,\n",
              "  62,\n",
              "  0,\n",
              "  32,\n",
              "  35,\n",
              "  36,\n",
              "  8,\n",
              "  6,\n",
              "  21,\n",
              "  10,\n",
              "  19,\n",
              "  5,\n",
              "  21,\n",
              "  25,\n",
              "  17,\n",
              "  45,\n",
              "  8,\n",
              "  9,\n",
              "  9,\n",
              "  8,\n",
              "  1,\n",
              "  5,\n",
              "  16,\n",
              "  32,\n",
              "  36,\n",
              "  30,\n",
              "  9,\n",
              "  13,\n",
              "  2,\n",
              "  30,\n",
              "  26,\n",
              "  25,\n",
              "  24,\n",
              "  24,\n",
              "  154,\n",
              "  51,\n",
              "  44,\n",
              "  56,\n",
              "  66,\n",
              "  41,\n",
              "  27,\n",
              "  115,\n",
              "  43,\n",
              "  61,\n",
              "  41,\n",
              "  104,\n",
              "  6,\n",
              "  129,\n",
              "  46,\n",
              "  10,\n",
              "  44,\n",
              "  67,\n",
              "  49,\n",
              "  64,\n",
              "  84,\n",
              "  60,\n",
              "  77,\n",
              "  39,\n",
              "  44,\n",
              "  8,\n",
              "  104,\n",
              "  82,\n",
              "  79,\n",
              "  59,\n",
              "  109,\n",
              "  2,\n",
              "  60,\n",
              "  51,\n",
              "  109,\n",
              "  90,\n",
              "  79,\n",
              "  98,\n",
              "  53,\n",
              "  79,\n",
              "  128,\n",
              "  43,\n",
              "  56,\n",
              "  107,\n",
              "  59,\n",
              "  56,\n",
              "  132,\n",
              "  59,\n",
              "  75,\n",
              "  31,\n",
              "  50,\n",
              "  47,\n",
              "  77,\n",
              "  36,\n",
              "  2,\n",
              "  84,\n",
              "  84,\n",
              "  135,\n",
              "  26,\n",
              "  133,\n",
              "  76,\n",
              "  79,\n",
              "  85,\n",
              "  68,\n",
              "  4,\n",
              "  43,\n",
              "  69,\n",
              "  32,\n",
              "  33,\n",
              "  43,\n",
              "  82,\n",
              "  49,\n",
              "  98,\n",
              "  117,\n",
              "  60,\n",
              "  85,\n",
              "  104,\n",
              "  48,\n",
              "  70,\n",
              "  84,\n",
              "  83,\n",
              "  145,\n",
              "  29,\n",
              "  10,\n",
              "  32,\n",
              "  77,\n",
              "  36,\n",
              "  45,\n",
              "  74,\n",
              "  104,\n",
              "  56,\n",
              "  89,\n",
              "  55,\n",
              "  114,\n",
              "  36,\n",
              "  101,\n",
              "  22,\n",
              "  82,\n",
              "  9,\n",
              "  29,\n",
              "  48,\n",
              "  81,\n",
              "  61,\n",
              "  2,\n",
              "  119,\n",
              "  116,\n",
              "  132,\n",
              "  8,\n",
              "  90,\n",
              "  127,\n",
              "  47,\n",
              "  147,\n",
              "  126,\n",
              "  132,\n",
              "  138,\n",
              "  70,\n",
              "  15,\n",
              "  139,\n",
              "  131,\n",
              "  162,\n",
              "  157,\n",
              "  190,\n",
              "  174,\n",
              "  163,\n",
              "  168,\n",
              "  161,\n",
              "  170,\n",
              "  141,\n",
              "  171,\n",
              "  176,\n",
              "  48,\n",
              "  11,\n",
              "  2,\n",
              "  17,\n",
              "  16,\n",
              "  10,\n",
              "  11,\n",
              "  35,\n",
              "  3,\n",
              "  1,\n",
              "  1,\n",
              "  11,\n",
              "  39,\n",
              "  9,\n",
              "  2,\n",
              "  27,\n",
              "  2,\n",
              "  18,\n",
              "  22,\n",
              "  10,\n",
              "  15,\n",
              "  18,\n",
              "  25,\n",
              "  2,\n",
              "  4,\n",
              "  27,\n",
              "  8,\n",
              "  1,\n",
              "  10,\n",
              "  7,\n",
              "  0,\n",
              "  17,\n",
              "  6,\n",
              "  8,\n",
              "  33,\n",
              "  30,\n",
              "  14,\n",
              "  2,\n",
              "  2,\n",
              "  20,\n",
              "  12,\n",
              "  7,\n",
              "  35,\n",
              "  11,\n",
              "  4,\n",
              "  9,\n",
              "  1,\n",
              "  0,\n",
              "  9,\n",
              "  15,\n",
              "  62,\n",
              "  0,\n",
              "  32,\n",
              "  35,\n",
              "  36,\n",
              "  8,\n",
              "  6,\n",
              "  21,\n",
              "  10,\n",
              "  19,\n",
              "  5,\n",
              "  21,\n",
              "  25,\n",
              "  17,\n",
              "  45,\n",
              "  8,\n",
              "  9,\n",
              "  9,\n",
              "  8,\n",
              "  1,\n",
              "  5,\n",
              "  16,\n",
              "  32,\n",
              "  36,\n",
              "  30,\n",
              "  9,\n",
              "  13,\n",
              "  2,\n",
              "  30,\n",
              "  26,\n",
              "  25,\n",
              "  24,\n",
              "  24,\n",
              "  154,\n",
              "  51,\n",
              "  44,\n",
              "  56,\n",
              "  66,\n",
              "  41,\n",
              "  27,\n",
              "  115,\n",
              "  43,\n",
              "  61,\n",
              "  41,\n",
              "  104,\n",
              "  6,\n",
              "  129,\n",
              "  46,\n",
              "  10,\n",
              "  44,\n",
              "  67,\n",
              "  49,\n",
              "  64,\n",
              "  84,\n",
              "  60,\n",
              "  77,\n",
              "  39,\n",
              "  44,\n",
              "  8,\n",
              "  104,\n",
              "  82,\n",
              "  79,\n",
              "  59,\n",
              "  109,\n",
              "  2,\n",
              "  60,\n",
              "  51,\n",
              "  109,\n",
              "  90,\n",
              "  79,\n",
              "  98,\n",
              "  53,\n",
              "  79,\n",
              "  128,\n",
              "  43,\n",
              "  56,\n",
              "  107,\n",
              "  59,\n",
              "  56,\n",
              "  132,\n",
              "  59,\n",
              "  75,\n",
              "  31,\n",
              "  50,\n",
              "  47,\n",
              "  77,\n",
              "  36,\n",
              "  2,\n",
              "  84,\n",
              "  84,\n",
              "  135,\n",
              "  26,\n",
              "  133,\n",
              "  76,\n",
              "  79,\n",
              "  85,\n",
              "  68,\n",
              "  4,\n",
              "  43,\n",
              "  69,\n",
              "  32,\n",
              "  33,\n",
              "  43,\n",
              "  82,\n",
              "  49,\n",
              "  98,\n",
              "  117,\n",
              "  60,\n",
              "  85,\n",
              "  104,\n",
              "  48,\n",
              "  70,\n",
              "  84,\n",
              "  83,\n",
              "  145,\n",
              "  29,\n",
              "  10,\n",
              "  32,\n",
              "  77,\n",
              "  36,\n",
              "  45,\n",
              "  74,\n",
              "  104,\n",
              "  56,\n",
              "  89,\n",
              "  55,\n",
              "  114,\n",
              "  36,\n",
              "  101,\n",
              "  22,\n",
              "  82,\n",
              "  9,\n",
              "  29,\n",
              "  48,\n",
              "  81,\n",
              "  61,\n",
              "  2,\n",
              "  119,\n",
              "  116,\n",
              "  132,\n",
              "  8,\n",
              "  90,\n",
              "  127,\n",
              "  47,\n",
              "  147,\n",
              "  126,\n",
              "  132,\n",
              "  138,\n",
              "  70,\n",
              "  15,\n",
              "  139,\n",
              "  131,\n",
              "  162,\n",
              "  157,\n",
              "  190,\n",
              "  174,\n",
              "  163,\n",
              "  168,\n",
              "  161,\n",
              "  170,\n",
              "  141,\n",
              "  171,\n",
              "  176])"
            ]
          },
          "metadata": {},
          "execution_count": 101
        }
      ],
      "source": [
        "import numpy as np\n",
        "import matplotlib.pyplot as plt\n",
        "\n",
        "weight = []\n",
        "degrees = []\n",
        "def graph_out_edges():\n",
        "  outedges = []\n",
        "  outdegree = []\n",
        "  for i in pig.nodes():\n",
        "    outedges = pig.out_edges(i, data=True)  # Get outgoing edges for the node, including edge data\n",
        "    degrees.append(pig.out_degree(i))  # Out-degree for the node\n",
        "    weight.append(sum([data['weight'] for _, _, data in outedges]))\n",
        "  return weight,degrees\n",
        "\n",
        "\n",
        "def scatter_plot():\n",
        "  weight,degree = graph_out_edges()\n",
        "  outdegree = np.array(degree)  # Number of directly influenced repositories\n",
        "  tpiscore = np.array(weight)\n",
        "  plt.figure(figsize=(8, 6))\n",
        "  plt.scatter(tpiscore, outdegree, color='blue', label='Data Points')\n",
        "  plt.title('Outdegree vs Total Plausible Influence Score ')\n",
        "  plt.xlabel('Total Plausible Influence Score (TPIScore)')\n",
        "  plt.ylabel('Number of Directly Influenced Repositories (Outdegree)')\n",
        "  plt.legend()\n",
        "  plt.grid(True)\n",
        "  plt.show()\n",
        "\n",
        "scatter_plot()\n",
        "\n",
        "graph_out_edges()"
      ],
      "id": "39a52867"
    },
    {
      "cell_type": "code",
      "execution_count": null,
      "metadata": {
        "id": "Q3FgL3EJVOdE",
        "colab": {
          "base_uri": "https://localhost:8080/"
        },
        "outputId": "ad23093c-6ad7-4498-97f1-0d46d011ce31"
      },
      "outputs": [
        {
          "output_type": "stream",
          "name": "stdout",
          "text": [
            "0.0 ['Ketouem/flask-boto3', 'level12/flask-webtest']\n",
            "0.01 ['Ketouem/flask-boto3', 'sh4nks/flask-plugins']\n",
            "0.02 ['Ketouem/flask-boto3', 'sh4nks/flask-plugins']\n",
            "0.03 ['Ketouem/flask-boto3', 'sh4nks/flask-plugins']\n",
            "0.04 ['Ketouem/flask-boto3', 'sh4nks/flask-plugins']\n",
            "0.05 ['Ketouem/flask-boto3', 'sh4nks/flask-plugins']\n",
            "0.06 ['level12/flask-webtest', 'mjhea0/flask-intro']\n",
            "0.07 ['level12/flask-webtest', 'mjhea0/flask-intro']\n",
            "0.08 ['level12/flask-webtest', 'mjhea0/flask-intro']\n",
            "0.09 ['level12/flask-webtest', 'mjhea0/flask-intro']\n",
            "0.1 ['level12/flask-webtest', 'mjhea0/flask-intro']\n",
            "0.2 ['level12/flask-webtest', 'mjhea0/flask-intro']\n",
            "0.3 ['level12/flask-webtest', 'mjhea0/flask-intro']\n",
            "0.4 ['level12/flask-webtest', 'mjhea0/flask-intro']\n",
            "0.5 ['miguelgrinberg/Flask-Runner', 'mjhea0/flask-intro']\n"
          ]
        },
        {
          "output_type": "execute_result",
          "data": {
            "text/plain": [
              "[299, 213, 213, 213, 213, 213, 26, 26, 26, 26, 26, 24, 18, 18, 6]"
            ]
          },
          "metadata": {},
          "execution_count": 133
        }
      ],
      "source": [
        "for repo in repos:\n",
        "  for key,value in repo.items():\n",
        "      print(key,value)\n",
        "repo_count"
      ],
      "id": "Q3FgL3EJVOdE"
    },
    {
      "cell_type": "code",
      "source": [
        "outdeg1 = [299, 213, 213, 213, 213, 213, 26, 26, 26, 26, 26, 24, 18, 18, 6]\n",
        "thresh = [0.0, 0.01, 0.02, 0.03 ,0.04,0.05 ,0.06 ,0.07 ,0.08 ,0.09 ,0.1 ,0.2 ,0.3 ,0.4 ,0.5]\n",
        "outdeg2 = [400, 387, 253, 253, 253, 253, 121, 24, 24, 24, 24, 21, 17, 17, 4]"
      ],
      "metadata": {
        "id": "5cPau7UD1irt"
      },
      "id": "5cPau7UD1irt",
      "execution_count": null,
      "outputs": []
    },
    {
      "cell_type": "code",
      "source": [
        "import matplotlib.pyplot as plt\n",
        "import numpy as np\n",
        "\n",
        "# Sample data: number of contributions to Repo1 and Repo2 over 6 months\n",
        "\n",
        "\n",
        "# Creating the bar positions\n",
        "x = np.arange(len(thresh))  # the label locations\n",
        "width = 0.35  # the width of the bars\n",
        "\n",
        "# Creating the plot\n",
        "fig, ax = plt.subplots()\n",
        "bars1 = ax.bar(x - width/2, outdeg1, width, label='search engine')\n",
        "bars2 = ax.bar(x + width/2, outdeg2, width, label='flask')\n",
        "\n",
        "# Adding some text for labels, title, and custom x-axis tick labels\n",
        "ax.set_xlabel('threshold')\n",
        "ax.set_ylabel('Contributions')\n",
        "ax.set_title('threshold to search engine vs. flask')\n",
        "ax.set_xticks(x)\n",
        "ax.set_xticklabels(thresh)\n",
        "ax.legend()\n",
        "\n",
        "# Function to add value labels on top of each bar\n",
        "def add_value_labels(ax, bars):\n",
        "    for bar in bars:\n",
        "        height = bar.get_height()\n",
        "        ax.annotate(f'{height}',\n",
        "                    xy=(bar.get_x() + bar.get_width() / 2, height),\n",
        "                    xytext=(0, 3),  # 3 points vertical offset\n",
        "                    textcoords=\"offset points\",\n",
        "                    ha='center', va='bottom')\n",
        "\n",
        "# Adding value labels to the bars\n",
        "add_value_labels(ax, bars1)\n",
        "add_value_labels(ax, bars2)\n",
        "\n",
        "# Display the plot\n",
        "plt.tight_layout()\n",
        "plt.show()\n"
      ],
      "metadata": {
        "colab": {
          "base_uri": "https://localhost:8080/",
          "height": 487
        },
        "id": "GRLzeKNQ3geq",
        "outputId": "f26176a1-1093-45ba-ffcc-e668292ac1be"
      },
      "id": "GRLzeKNQ3geq",
      "execution_count": null,
      "outputs": [
        {
          "output_type": "display_data",
          "data": {
            "text/plain": [
              "<Figure size 640x480 with 1 Axes>"
            ],
            "image/png": "[encoded data removed]"
          },
          "metadata": {}
        }
      ]
    }
  ],
  "metadata": {
    "colab": {
      "provenance": [],
      "include_colab_link": true
    },
    "kernelspec": {
      "display_name": "Python 3 (ipykernel)",
      "language": "python",
      "name": "python3"
    },
    "language_info": {
      "codemirror_mode": {
        "name": "ipython",
        "version": 3
      },
      "file_extension": ".py",
      "mimetype": "text/x-python",
      "name": "python",
      "nbconvert_exporter": "python",
      "pygments_lexer": "ipython3",
      "version": "3.11.5"
    }
  },
  "nbformat": 4,
  "nbformat_minor": 5
}